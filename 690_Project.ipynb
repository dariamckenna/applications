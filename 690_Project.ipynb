{
  "nbformat": 4,
  "nbformat_minor": 0,
  "metadata": {
    "colab": {
      "name": "690 Project",
      "provenance": [],
      "collapsed_sections": [],
      "include_colab_link": true
    },
    "kernelspec": {
      "name": "python3",
      "display_name": "Python 3"
    }
  },
  "cells": [
    {
      "cell_type": "markdown",
      "metadata": {
        "id": "view-in-github",
        "colab_type": "text"
      },
      "source": [
        "<a href=\"https://colab.research.google.com/github/dariamckenna/applications/blob/master/690_Project.ipynb\" target=\"_parent\"><img src=\"https://colab.research.google.com/assets/colab-badge.svg\" alt=\"Open In Colab\"/></a>"
      ]
    },
    {
      "cell_type": "code",
      "metadata": {
        "id": "O9Ah7u76jlIn"
      },
      "source": [
        "import pandas as pd #pandas places ones data in tables format\r\n",
        "from bokeh.plotting import figure, output_notebook, show #builds interactive graphs for python\r\n",
        "from bokeh.models import Range1d\r\n",
        "import math #this is used in graphic section to use the irrational number pi\r\n",
        "output_notebook() #Allows inline plotting for Juptyer notebook"
      ],
      "execution_count": 19,
      "outputs": []
    },
    {
      "cell_type": "code",
      "metadata": {
        "colab": {
          "base_uri": "https://localhost:8080/",
          "height": 289
        },
        "id": "M-waEaFKKZL8",
        "outputId": "c492e7ce-d93f-42bd-b73e-fdfab9205496"
      },
      "source": [
        "# Dataset was downloaded from Kaggle : \"How ISIS Uses Twitter\"\r\n",
        "# being read in from a local .csv file moved into the applications folder\r\n",
        "Tweets = pd.read_csv(r\"/tweets.csv\")\r\n",
        "Tweets.head() # see the structure--default is first five rows"
      ],
      "execution_count": 20,
      "outputs": [
        {
          "output_type": "execute_result",
          "data": {
            "text/html": [
              "<div>\n",
              "<style scoped>\n",
              "    .dataframe tbody tr th:only-of-type {\n",
              "        vertical-align: middle;\n",
              "    }\n",
              "\n",
              "    .dataframe tbody tr th {\n",
              "        vertical-align: top;\n",
              "    }\n",
              "\n",
              "    .dataframe thead th {\n",
              "        text-align: right;\n",
              "    }\n",
              "</style>\n",
              "<table border=\"1\" class=\"dataframe\">\n",
              "  <thead>\n",
              "    <tr style=\"text-align: right;\">\n",
              "      <th></th>\n",
              "      <th>name</th>\n",
              "      <th>username</th>\n",
              "      <th>description</th>\n",
              "      <th>location</th>\n",
              "      <th>followers</th>\n",
              "      <th>numberstatuses</th>\n",
              "      <th>time</th>\n",
              "      <th>tweets</th>\n",
              "    </tr>\n",
              "  </thead>\n",
              "  <tbody>\n",
              "    <tr>\n",
              "      <th>0</th>\n",
              "      <td>GunsandCoffee</td>\n",
              "      <td>GunsandCoffee70</td>\n",
              "      <td>ENGLISH TRANSLATIONS: http://t.co/QLdJ0ftews</td>\n",
              "      <td>NaN</td>\n",
              "      <td>640</td>\n",
              "      <td>49</td>\n",
              "      <td>1/6/2015 21:07</td>\n",
              "      <td>ENGLISH TRANSLATION: 'A MESSAGE TO THE TRUTHFU...</td>\n",
              "    </tr>\n",
              "    <tr>\n",
              "      <th>1</th>\n",
              "      <td>GunsandCoffee</td>\n",
              "      <td>GunsandCoffee70</td>\n",
              "      <td>ENGLISH TRANSLATIONS: http://t.co/QLdJ0ftews</td>\n",
              "      <td>NaN</td>\n",
              "      <td>640</td>\n",
              "      <td>49</td>\n",
              "      <td>1/6/2015 21:27</td>\n",
              "      <td>ENGLISH TRANSLATION: SHEIKH FATIH AL JAWLANI '...</td>\n",
              "    </tr>\n",
              "    <tr>\n",
              "      <th>2</th>\n",
              "      <td>GunsandCoffee</td>\n",
              "      <td>GunsandCoffee70</td>\n",
              "      <td>ENGLISH TRANSLATIONS: http://t.co/QLdJ0ftews</td>\n",
              "      <td>NaN</td>\n",
              "      <td>640</td>\n",
              "      <td>49</td>\n",
              "      <td>1/6/2015 21:29</td>\n",
              "      <td>ENGLISH TRANSLATION: FIRST AUDIO MEETING WITH ...</td>\n",
              "    </tr>\n",
              "    <tr>\n",
              "      <th>3</th>\n",
              "      <td>GunsandCoffee</td>\n",
              "      <td>GunsandCoffee70</td>\n",
              "      <td>ENGLISH TRANSLATIONS: http://t.co/QLdJ0ftews</td>\n",
              "      <td>NaN</td>\n",
              "      <td>640</td>\n",
              "      <td>49</td>\n",
              "      <td>1/6/2015 21:37</td>\n",
              "      <td>ENGLISH TRANSLATION: SHEIKH NASIR AL WUHAYSHI ...</td>\n",
              "    </tr>\n",
              "    <tr>\n",
              "      <th>4</th>\n",
              "      <td>GunsandCoffee</td>\n",
              "      <td>GunsandCoffee70</td>\n",
              "      <td>ENGLISH TRANSLATIONS: http://t.co/QLdJ0ftews</td>\n",
              "      <td>NaN</td>\n",
              "      <td>640</td>\n",
              "      <td>49</td>\n",
              "      <td>1/6/2015 21:45</td>\n",
              "      <td>ENGLISH TRANSLATION: AQAP: 'RESPONSE TO SHEIKH...</td>\n",
              "    </tr>\n",
              "  </tbody>\n",
              "</table>\n",
              "</div>"
            ],
            "text/plain": [
              "            name  ...                                             tweets\n",
              "0  GunsandCoffee  ...  ENGLISH TRANSLATION: 'A MESSAGE TO THE TRUTHFU...\n",
              "1  GunsandCoffee  ...  ENGLISH TRANSLATION: SHEIKH FATIH AL JAWLANI '...\n",
              "2  GunsandCoffee  ...  ENGLISH TRANSLATION: FIRST AUDIO MEETING WITH ...\n",
              "3  GunsandCoffee  ...  ENGLISH TRANSLATION: SHEIKH NASIR AL WUHAYSHI ...\n",
              "4  GunsandCoffee  ...  ENGLISH TRANSLATION: AQAP: 'RESPONSE TO SHEIKH...\n",
              "\n",
              "[5 rows x 8 columns]"
            ]
          },
          "metadata": {
            "tags": []
          },
          "execution_count": 20
        }
      ]
    },
    {
      "cell_type": "code",
      "metadata": {
        "colab": {
          "base_uri": "https://localhost:8080/",
          "height": 0
        },
        "id": "h6nTzxWCKlG3",
        "outputId": "77bf04ae-05a5-42c1-bbcf-a1751d8d24fe"
      },
      "source": [
        "Tweets.isnull().sum() # checking for missing entries"
      ],
      "execution_count": 21,
      "outputs": [
        {
          "output_type": "execute_result",
          "data": {
            "text/plain": [
              "name                 0\n",
              "username             0\n",
              "description       2682\n",
              "location          5978\n",
              "followers            0\n",
              "numberstatuses       0\n",
              "time                 0\n",
              "tweets               0\n",
              "dtype: int64"
            ]
          },
          "metadata": {
            "tags": []
          },
          "execution_count": 21
        }
      ]
    },
    {
      "cell_type": "code",
      "metadata": {
        "colab": {
          "base_uri": "https://localhost:8080/",
          "height": 0
        },
        "id": "JcwUE8mWKpN3",
        "outputId": "5640d287-9442-43aa-95de-00b9c807e45c"
      },
      "source": [
        "# Create a dictionary of pro-ISIS fanboys included in this dataset\r\n",
        "User = {} #creates an empty dictionary\r\n",
        "for index, row in Tweets.iterrows():\r\n",
        "    if row[\"username\"] in User.keys(): \r\n",
        "        User[row[\"username\"]] += 1  #increases count\r\n",
        "    else:\r\n",
        "        User[row[\"username\"]] = 1   #adds to dictionary when User hasn't appeared yet\r\n",
        "\r\n",
        "#Finds out how many unique users, or fanboys, there are in this dataset        \r\n",
        "len(User)\r\n",
        "#print(User)"
      ],
      "execution_count": 22,
      "outputs": [
        {
          "output_type": "execute_result",
          "data": {
            "text/plain": [
              "112"
            ]
          },
          "metadata": {
            "tags": []
          },
          "execution_count": 22
        }
      ]
    },
    {
      "cell_type": "code",
      "metadata": {
        "colab": {
          "base_uri": "https://localhost:8080/",
          "height": 0
        },
        "id": "HIaVWK8HONC0",
        "outputId": "c91431f4-c8c6-48f4-9681-8f2e793d5854"
      },
      "source": [
        "type(\"time\") #find out what form time is in"
      ],
      "execution_count": 23,
      "outputs": [
        {
          "output_type": "execute_result",
          "data": {
            "text/plain": [
              "str"
            ]
          },
          "metadata": {
            "tags": []
          },
          "execution_count": 23
        }
      ]
    },
    {
      "cell_type": "code",
      "metadata": {
        "id": "NGmsRqGkdnOu",
        "colab": {
          "base_uri": "https://localhost:8080/",
          "height": 0
        },
        "outputId": "4ee36cf7-d46e-4ac2-af52-77c26f0e0efe"
      },
      "source": [
        "# Create a dictionary of days when pro-ISIS fanboys tweeted, and how many tweets occured on those dates\r\n",
        "Perday = {} #creates an empty dictionary\r\n",
        "for index, row in Tweets.iterrows():\r\n",
        "  day = row[\"time\"].split(\" \")[0] #splitting up the row time so that only the specific day is considered\r\n",
        "  if day in Perday.keys(): #if the day isnt already captured\r\n",
        "    Perday[day] += 1  #increases count\r\n",
        "  else: #the day is already captured\r\n",
        "    Perday[day] = 1   #adds to dictionary when the day hasn't occured yet\r\n",
        "\r\n",
        "print(Perday)"
      ],
      "execution_count": 24,
      "outputs": [
        {
          "output_type": "stream",
          "text": [
            "{'1/6/2015': 9, '1/10/2015': 2, '1/12/2015': 1, '1/22/2015': 2, '2/9/2015': 1, '2/12/2015': 2, '2/16/2015': 1, '2/20/2015': 3, '2/26/2015': 2, '2/28/2015': 1, '3/4/2015': 1, '4/1/2015': 1, '5/13/2015': 1, '5/29/2015': 1, '6/3/2015': 1, '7/7/2015': 1, '8/17/2015': 1, '8/26/2015': 2, '8/28/2015': 1, '8/29/2015': 11, '8/30/2015': 18, '8/31/2015': 10, '9/1/2015': 16, '9/2/2015': 8, '9/3/2015': 14, '9/4/2015': 9, '9/5/2015': 52, '9/6/2015': 4, '9/7/2015': 4, '9/8/2015': 4, '9/9/2015': 18, '9/10/2015': 5, '9/11/2015': 4, '9/12/2015': 1, '9/13/2015': 5, '9/15/2015': 7, '9/19/2015': 4, '9/21/2015': 2, '9/23/2015': 20, '9/24/2015': 18, '9/25/2015': 48, '9/27/2015': 7, '9/28/2015': 6, '9/29/2015': 7, '9/30/2015': 7, '10/1/2015': 9, '10/2/2015': 4, '10/3/2015': 4, '10/4/2015': 5, '10/5/2015': 20, '10/6/2015': 12, '10/7/2015': 6, '10/8/2015': 5, '10/9/2015': 9, '10/11/2015': 9, '10/12/2015': 2, '10/13/2015': 1, '10/14/2015': 6, '10/15/2015': 2, '10/16/2015': 4, '10/17/2015': 8, '10/18/2015': 8, '10/19/2015': 7, '10/20/2015': 4, '10/21/2015': 3, '10/22/2015': 5, '10/23/2015': 8, '10/24/2015': 4, '10/25/2015': 14, '10/26/2015': 2, '10/27/2015': 1, '10/28/2015': 2, '10/29/2015': 7, '10/31/2015': 4, '11/1/2015': 6, '11/2/2015': 3, '11/3/2015': 14, '11/4/2015': 9, '11/11/2015': 3, '11/12/2015': 16, '11/14/2015': 1, '11/15/2015': 18, '11/16/2015': 1, '11/17/2015': 4, '11/18/2015': 2, '11/19/2015': 2, '11/21/2015': 4, '11/22/2015': 2, '11/23/2015': 1, '11/25/2015': 1, '11/26/2015': 1, '11/27/2015': 1, '11/28/2015': 1, '11/29/2015': 2, '12/1/2015': 2, '12/4/2015': 3, '12/5/2015': 5, '12/6/2015': 3, '12/7/2015': 4, '12/8/2015': 1, '12/9/2015': 8, '12/11/2015': 8, '12/12/2015': 3, '12/13/2015': 33, '12/14/2015': 7, '12/15/2015': 5, '12/16/2015': 3, '12/17/2015': 7, '12/18/2015': 1, '12/19/2015': 1, '12/20/2015': 3, '12/21/2015': 1, '12/22/2015': 7, '12/23/2015': 12, '12/24/2015': 11, '12/25/2015': 10, '12/26/2015': 33, '12/27/2015': 12, '12/28/2015': 10, '12/29/2015': 11, '12/30/2015': 23, '12/31/2015': 16, '1/1/2016': 28, '1/2/2016': 23, '1/3/2016': 16, '1/4/2016': 9, '1/5/2016': 25, '1/6/2016': 20, '1/7/2016': 15, '1/8/2016': 6, '1/9/2016': 18, '1/10/2016': 25, '1/11/2016': 21, '1/12/2016': 30, '1/13/2016': 32, '1/14/2016': 12, '1/15/2016': 31, '1/16/2016': 81, '1/17/2016': 27, '1/18/2016': 19, '1/19/2016': 51, '1/20/2016': 52, '1/21/2016': 22, '1/22/2016': 41, '1/23/2016': 36, '1/24/2016': 35, '1/25/2016': 37, '1/26/2016': 70, '1/27/2016': 53, '1/28/2016': 92, '1/29/2016': 149, '1/30/2016': 165, '1/31/2016': 513, '2/1/2016': 91, '2/2/2016': 71, '2/3/2016': 56, '2/4/2016': 192, '2/5/2016': 258, '2/6/2016': 172, '2/7/2016': 77, '2/8/2016': 112, '2/9/2016': 87, '2/10/2016': 178, '2/11/2016': 217, '2/12/2016': 207, '2/13/2016': 67, '2/14/2016': 15, '2/15/2016': 31, '2/16/2016': 116, '2/17/2016': 148, '2/18/2016': 125, '2/19/2016': 273, '2/20/2016': 58, '2/21/2016': 79, '2/22/2016': 80, '2/23/2016': 121, '2/24/2016': 126, '2/25/2016': 195, '2/26/2016': 188, '2/27/2016': 81, '2/28/2016': 142, '2/29/2016': 131, '3/1/2016': 64, '3/2/2016': 184, '3/3/2016': 268, '3/4/2016': 98, '3/5/2016': 70, '3/6/2016': 76, '3/7/2016': 64, '3/8/2016': 112, '3/9/2016': 146, '3/10/2016': 178, '3/11/2016': 237, '3/12/2016': 12, '3/13/2016': 14, '3/14/2016': 44, '3/15/2016': 144, '3/16/2016': 148, '3/17/2016': 209, '3/18/2016': 253, '3/19/2016': 4, '3/20/2016': 54, '3/21/2016': 98, '3/22/2016': 183, '3/23/2016': 127, '3/24/2016': 371, '3/25/2016': 408, '3/26/2016': 42, '3/27/2016': 132, '3/28/2016': 74, '3/29/2016': 77, '3/30/2016': 82, '3/31/2016': 186, '4/1/2016': 208, '4/2/2016': 44, '4/3/2016': 78, '4/4/2016': 56, '4/5/2016': 155, '4/6/2016': 160, '4/7/2016': 288, '4/8/2016': 376, '4/9/2016': 47, '4/10/2016': 88, '4/11/2016': 174, '4/12/2016': 131, '4/13/2016': 203, '4/14/2016': 237, '4/15/2016': 125, '4/16/2016': 57, '4/17/2016': 112, '4/18/2016': 56, '4/19/2016': 106, '4/20/2016': 167, '4/21/2016': 224, '4/22/2016': 323, '4/23/2016': 79, '4/24/2016': 107, '4/25/2016': 197, '4/26/2016': 105, '4/27/2016': 134, '4/28/2016': 180, '4/29/2016': 284, '4/30/2016': 79, '5/1/2016': 114, '5/2/2016': 106, '5/3/2016': 125, '5/4/2016': 178, '5/5/2016': 247, '5/6/2016': 389, '5/7/2016': 115, '5/8/2016': 85, '5/9/2016': 81, '5/10/2016': 112, '5/11/2016': 264, '5/12/2016': 451, '5/13/2016': 103}\n"
          ],
          "name": "stdout"
        }
      ]
    },
    {
      "cell_type": "code",
      "metadata": {
        "colab": {
          "base_uri": "https://localhost:8080/",
          "height": 0
        },
        "id": "FfEuIL-zkmy-",
        "outputId": "c15ae8f8-9f1b-4c4f-ba04-ce0e98164150"
      },
      "source": [
        "# Make x,y for a bar chart plotting \r\n",
        "days = list(Perday.keys()) \r\n",
        "tweetcount = list(Perday.values())\r\n",
        "\r\n",
        "#print(days)\r\n",
        "len(days) # prints the number of days that there were tweets from the pro-ISIS users"
      ],
      "execution_count": 25,
      "outputs": [
        {
          "output_type": "execute_result",
          "data": {
            "text/plain": [
              "256"
            ]
          },
          "metadata": {
            "tags": []
          },
          "execution_count": 25
        }
      ]
    },
    {
      "cell_type": "code",
      "metadata": {
        "id": "_A9Cuv8Ij_D2"
      },
      "source": [
        "# Uses the bokeh library to plot an interactive graph\r\n",
        "p = figure(x_range = days, plot_width=800, plot_height=1200)\r\n",
        "\r\n",
        "#Plots the data\r\n",
        "p.vbar(x=days, width=0.5, bottom=0,\r\n",
        "       top= tweetcount, color=\"firebrick\")\r\n",
        "\r\n",
        "p.xaxis.major_label_orientation = math.pi/2  #Rotates the labels on the X axis"
      ],
      "execution_count": 26,
      "outputs": []
    },
    {
      "cell_type": "code",
      "metadata": {
        "id": "kgaWoNq5m92u",
        "colab": {
          "base_uri": "https://localhost:8080/",
          "height": 1217
        },
        "outputId": "3ecdd806-7a7d-403f-ab08-af641e12584e"
      },
      "source": [
        "show(p)\r\n",
        "# visualizes number of tweets as a timeline (already in chronological order)"
      ],
      "execution_count": 27,
      "outputs": [
        {
          "output_type": "display_data",
          "data": {
            "application/javascript": [
              "\n",
              "(function(root) {\n",
              "  function now() {\n",
              "    return new Date();\n",
              "  }\n",
              "\n",
              "  var force = true;\n",
              "\n",
              "  if (typeof root._bokeh_onload_callbacks === \"undefined\" || force === true) {\n",
              "    root._bokeh_onload_callbacks = [];\n",
              "    root._bokeh_is_loading = undefined;\n",
              "  }\n",
              "\n",
              "  var JS_MIME_TYPE = 'application/javascript';\n",
              "  var HTML_MIME_TYPE = 'text/html';\n",
              "  var EXEC_MIME_TYPE = 'application/vnd.bokehjs_exec.v0+json';\n",
              "  var CLASS_NAME = 'output_bokeh rendered_html';\n",
              "\n",
              "  /**\n",
              "   * Render data to the DOM node\n",
              "   */\n",
              "  function render(props, node) {\n",
              "    var script = document.createElement(\"script\");\n",
              "    node.appendChild(script);\n",
              "  }\n",
              "\n",
              "  /**\n",
              "   * Handle when an output is cleared or removed\n",
              "   */\n",
              "  function handleClearOutput(event, handle) {\n",
              "    var cell = handle.cell;\n",
              "\n",
              "    var id = cell.output_area._bokeh_element_id;\n",
              "    var server_id = cell.output_area._bokeh_server_id;\n",
              "    // Clean up Bokeh references\n",
              "    if (id != null && id in Bokeh.index) {\n",
              "      Bokeh.index[id].model.document.clear();\n",
              "      delete Bokeh.index[id];\n",
              "    }\n",
              "\n",
              "    if (server_id !== undefined) {\n",
              "      // Clean up Bokeh references\n",
              "      var cmd = \"from bokeh.io.state import curstate; print(curstate().uuid_to_server['\" + server_id + \"'].get_sessions()[0].document.roots[0]._id)\";\n",
              "      cell.notebook.kernel.execute(cmd, {\n",
              "        iopub: {\n",
              "          output: function(msg) {\n",
              "            var id = msg.content.text.trim();\n",
              "            if (id in Bokeh.index) {\n",
              "              Bokeh.index[id].model.document.clear();\n",
              "              delete Bokeh.index[id];\n",
              "            }\n",
              "          }\n",
              "        }\n",
              "      });\n",
              "      // Destroy server and session\n",
              "      var cmd = \"import bokeh.io.notebook as ion; ion.destroy_server('\" + server_id + \"')\";\n",
              "      cell.notebook.kernel.execute(cmd);\n",
              "    }\n",
              "  }\n",
              "\n",
              "  /**\n",
              "   * Handle when a new output is added\n",
              "   */\n",
              "  function handleAddOutput(event, handle) {\n",
              "    var output_area = handle.output_area;\n",
              "    var output = handle.output;\n",
              "\n",
              "    // limit handleAddOutput to display_data with EXEC_MIME_TYPE content only\n",
              "    if ((output.output_type != \"display_data\") || (!output.data.hasOwnProperty(EXEC_MIME_TYPE))) {\n",
              "      return\n",
              "    }\n",
              "\n",
              "    var toinsert = output_area.element.find(\".\" + CLASS_NAME.split(' ')[0]);\n",
              "\n",
              "    if (output.metadata[EXEC_MIME_TYPE][\"id\"] !== undefined) {\n",
              "      toinsert[toinsert.length - 1].firstChild.textContent = output.data[JS_MIME_TYPE];\n",
              "      // store reference to embed id on output_area\n",
              "      output_area._bokeh_element_id = output.metadata[EXEC_MIME_TYPE][\"id\"];\n",
              "    }\n",
              "    if (output.metadata[EXEC_MIME_TYPE][\"server_id\"] !== undefined) {\n",
              "      var bk_div = document.createElement(\"div\");\n",
              "      bk_div.innerHTML = output.data[HTML_MIME_TYPE];\n",
              "      var script_attrs = bk_div.children[0].attributes;\n",
              "      for (var i = 0; i < script_attrs.length; i++) {\n",
              "        toinsert[toinsert.length - 1].firstChild.setAttribute(script_attrs[i].name, script_attrs[i].value);\n",
              "        toinsert[toinsert.length - 1].firstChild.textContent = bk_div.children[0].textContent\n",
              "      }\n",
              "      // store reference to server id on output_area\n",
              "      output_area._bokeh_server_id = output.metadata[EXEC_MIME_TYPE][\"server_id\"];\n",
              "    }\n",
              "  }\n",
              "\n",
              "  function register_renderer(events, OutputArea) {\n",
              "\n",
              "    function append_mime(data, metadata, element) {\n",
              "      // create a DOM node to render to\n",
              "      var toinsert = this.create_output_subarea(\n",
              "        metadata,\n",
              "        CLASS_NAME,\n",
              "        EXEC_MIME_TYPE\n",
              "      );\n",
              "      this.keyboard_manager.register_events(toinsert);\n",
              "      // Render to node\n",
              "      var props = {data: data, metadata: metadata[EXEC_MIME_TYPE]};\n",
              "      render(props, toinsert[toinsert.length - 1]);\n",
              "      element.append(toinsert);\n",
              "      return toinsert\n",
              "    }\n",
              "\n",
              "    /* Handle when an output is cleared or removed */\n",
              "    events.on('clear_output.CodeCell', handleClearOutput);\n",
              "    events.on('delete.Cell', handleClearOutput);\n",
              "\n",
              "    /* Handle when a new output is added */\n",
              "    events.on('output_added.OutputArea', handleAddOutput);\n",
              "\n",
              "    /**\n",
              "     * Register the mime type and append_mime function with output_area\n",
              "     */\n",
              "    OutputArea.prototype.register_mime_type(EXEC_MIME_TYPE, append_mime, {\n",
              "      /* Is output safe? */\n",
              "      safe: true,\n",
              "      /* Index of renderer in `output_area.display_order` */\n",
              "      index: 0\n",
              "    });\n",
              "  }\n",
              "\n",
              "  // register the mime type if in Jupyter Notebook environment and previously unregistered\n",
              "  if (root.Jupyter !== undefined) {\n",
              "    var events = require('base/js/events');\n",
              "    var OutputArea = require('notebook/js/outputarea').OutputArea;\n",
              "\n",
              "    if (OutputArea.prototype.mime_types().indexOf(EXEC_MIME_TYPE) == -1) {\n",
              "      register_renderer(events, OutputArea);\n",
              "    }\n",
              "  }\n",
              "\n",
              "  \n",
              "  if (typeof (root._bokeh_timeout) === \"undefined\" || force === true) {\n",
              "    root._bokeh_timeout = Date.now() + 5000;\n",
              "    root._bokeh_failed_load = false;\n",
              "  }\n",
              "\n",
              "  var NB_LOAD_WARNING = {'data': {'text/html':\n",
              "     \"<div style='background-color: #fdd'>\\n\"+\n",
              "     \"<p>\\n\"+\n",
              "     \"BokehJS does not appear to have successfully loaded. If loading BokehJS from CDN, this \\n\"+\n",
              "     \"may be due to a slow or bad network connection. Possible fixes:\\n\"+\n",
              "     \"</p>\\n\"+\n",
              "     \"<ul>\\n\"+\n",
              "     \"<li>re-rerun `output_notebook()` to attempt to load from CDN again, or</li>\\n\"+\n",
              "     \"<li>use INLINE resources instead, as so:</li>\\n\"+\n",
              "     \"</ul>\\n\"+\n",
              "     \"<code>\\n\"+\n",
              "     \"from bokeh.resources import INLINE\\n\"+\n",
              "     \"output_notebook(resources=INLINE)\\n\"+\n",
              "     \"</code>\\n\"+\n",
              "     \"</div>\"}};\n",
              "\n",
              "  function display_loaded() {\n",
              "    var el = document.getElementById(null);\n",
              "    if (el != null) {\n",
              "      el.textContent = \"BokehJS is loading...\";\n",
              "    }\n",
              "    if (root.Bokeh !== undefined) {\n",
              "      if (el != null) {\n",
              "        el.textContent = \"BokehJS \" + root.Bokeh.version + \" successfully loaded.\";\n",
              "      }\n",
              "    } else if (Date.now() < root._bokeh_timeout) {\n",
              "      setTimeout(display_loaded, 100)\n",
              "    }\n",
              "  }\n",
              "\n",
              "\n",
              "  function run_callbacks() {\n",
              "    try {\n",
              "      root._bokeh_onload_callbacks.forEach(function(callback) {\n",
              "        if (callback != null)\n",
              "          callback();\n",
              "      });\n",
              "    } finally {\n",
              "      delete root._bokeh_onload_callbacks\n",
              "    }\n",
              "    console.debug(\"Bokeh: all callbacks have finished\");\n",
              "  }\n",
              "\n",
              "  function load_libs(css_urls, js_urls, callback) {\n",
              "    if (css_urls == null) css_urls = [];\n",
              "    if (js_urls == null) js_urls = [];\n",
              "\n",
              "    root._bokeh_onload_callbacks.push(callback);\n",
              "    if (root._bokeh_is_loading > 0) {\n",
              "      console.debug(\"Bokeh: BokehJS is being loaded, scheduling callback at\", now());\n",
              "      return null;\n",
              "    }\n",
              "    if (js_urls == null || js_urls.length === 0) {\n",
              "      run_callbacks();\n",
              "      return null;\n",
              "    }\n",
              "    console.debug(\"Bokeh: BokehJS not loaded, scheduling load and callback at\", now());\n",
              "    root._bokeh_is_loading = css_urls.length + js_urls.length;\n",
              "\n",
              "    function on_load() {\n",
              "      root._bokeh_is_loading--;\n",
              "      if (root._bokeh_is_loading === 0) {\n",
              "        console.debug(\"Bokeh: all BokehJS libraries/stylesheets loaded\");\n",
              "        run_callbacks()\n",
              "      }\n",
              "    }\n",
              "\n",
              "    function on_error() {\n",
              "      console.error(\"failed to load \" + url);\n",
              "    }\n",
              "\n",
              "    for (var i = 0; i < css_urls.length; i++) {\n",
              "      var url = css_urls[i];\n",
              "      const element = document.createElement(\"link\");\n",
              "      element.onload = on_load;\n",
              "      element.onerror = on_error;\n",
              "      element.rel = \"stylesheet\";\n",
              "      element.type = \"text/css\";\n",
              "      element.href = url;\n",
              "      console.debug(\"Bokeh: injecting link tag for BokehJS stylesheet: \", url);\n",
              "      document.body.appendChild(element);\n",
              "    }\n",
              "\n",
              "    const hashes = {\"https://cdn.bokeh.org/bokeh/release/bokeh-2.1.1.min.js\": \"kLr4fYcqcSpbuI95brIH3vnnYCquzzSxHPU6XGQCIkQRGJwhg0StNbj1eegrHs12\", \"https://cdn.bokeh.org/bokeh/release/bokeh-widgets-2.1.1.min.js\": \"xIGPmVtaOm+z0BqfSOMn4lOR6ciex448GIKG4eE61LsAvmGj48XcMQZtKcE/UXZe\", \"https://cdn.bokeh.org/bokeh/release/bokeh-tables-2.1.1.min.js\": \"Dc9u1wF/0zApGIWoBbH77iWEHtdmkuYWG839Uzmv8y8yBLXebjO9ZnERsde5Ln/P\", \"https://cdn.bokeh.org/bokeh/release/bokeh-gl-2.1.1.min.js\": \"cT9JaBz7GiRXdENrJLZNSC6eMNF3nh3fa5fTF51Svp+ukxPdwcU5kGXGPBgDCa2j\"};\n",
              "\n",
              "    for (var i = 0; i < js_urls.length; i++) {\n",
              "      var url = js_urls[i];\n",
              "      var element = document.createElement('script');\n",
              "      element.onload = on_load;\n",
              "      element.onerror = on_error;\n",
              "      element.async = false;\n",
              "      element.src = url;\n",
              "      if (url in hashes) {\n",
              "        element.crossOrigin = \"anonymous\";\n",
              "        element.integrity = \"sha384-\" + hashes[url];\n",
              "      }\n",
              "      console.debug(\"Bokeh: injecting script tag for BokehJS library: \", url);\n",
              "      document.head.appendChild(element);\n",
              "    }\n",
              "  };\n",
              "\n",
              "  function inject_raw_css(css) {\n",
              "    const element = document.createElement(\"style\");\n",
              "    element.appendChild(document.createTextNode(css));\n",
              "    document.body.appendChild(element);\n",
              "  }\n",
              "\n",
              "  \n",
              "  var js_urls = [\"https://cdn.bokeh.org/bokeh/release/bokeh-2.1.1.min.js\", \"https://cdn.bokeh.org/bokeh/release/bokeh-widgets-2.1.1.min.js\", \"https://cdn.bokeh.org/bokeh/release/bokeh-tables-2.1.1.min.js\", \"https://cdn.bokeh.org/bokeh/release/bokeh-gl-2.1.1.min.js\"];\n",
              "  var css_urls = [];\n",
              "  \n",
              "\n",
              "  var inline_js = [\n",
              "    function(Bokeh) {\n",
              "      Bokeh.set_log_level(\"info\");\n",
              "    },\n",
              "    function(Bokeh) {\n",
              "    \n",
              "    \n",
              "    }\n",
              "  ];\n",
              "\n",
              "  function run_inline_js() {\n",
              "    \n",
              "    if (root.Bokeh !== undefined || force === true) {\n",
              "      \n",
              "    for (var i = 0; i < inline_js.length; i++) {\n",
              "      inline_js[i].call(root, root.Bokeh);\n",
              "    }\n",
              "    } else if (Date.now() < root._bokeh_timeout) {\n",
              "      setTimeout(run_inline_js, 100);\n",
              "    } else if (!root._bokeh_failed_load) {\n",
              "      console.log(\"Bokeh: BokehJS failed to load within specified timeout.\");\n",
              "      root._bokeh_failed_load = true;\n",
              "    } else if (force !== true) {\n",
              "      var cell = $(document.getElementById(null)).parents('.cell').data().cell;\n",
              "      cell.output_area.append_execute_result(NB_LOAD_WARNING)\n",
              "    }\n",
              "\n",
              "  }\n",
              "\n",
              "  if (root._bokeh_is_loading === 0) {\n",
              "    console.debug(\"Bokeh: BokehJS loaded, going straight to plotting\");\n",
              "    run_inline_js();\n",
              "  } else {\n",
              "    load_libs(css_urls, js_urls, function() {\n",
              "      console.debug(\"Bokeh: BokehJS plotting callback run at\", now());\n",
              "      run_inline_js();\n",
              "    });\n",
              "  }\n",
              "}(window));"
            ],
            "application/vnd.bokehjs_load.v0+json": "\n(function(root) {\n  function now() {\n    return new Date();\n  }\n\n  var force = true;\n\n  if (typeof root._bokeh_onload_callbacks === \"undefined\" || force === true) {\n    root._bokeh_onload_callbacks = [];\n    root._bokeh_is_loading = undefined;\n  }\n\n  \n\n  \n  if (typeof (root._bokeh_timeout) === \"undefined\" || force === true) {\n    root._bokeh_timeout = Date.now() + 5000;\n    root._bokeh_failed_load = false;\n  }\n\n  var NB_LOAD_WARNING = {'data': {'text/html':\n     \"<div style='background-color: #fdd'>\\n\"+\n     \"<p>\\n\"+\n     \"BokehJS does not appear to have successfully loaded. If loading BokehJS from CDN, this \\n\"+\n     \"may be due to a slow or bad network connection. Possible fixes:\\n\"+\n     \"</p>\\n\"+\n     \"<ul>\\n\"+\n     \"<li>re-rerun `output_notebook()` to attempt to load from CDN again, or</li>\\n\"+\n     \"<li>use INLINE resources instead, as so:</li>\\n\"+\n     \"</ul>\\n\"+\n     \"<code>\\n\"+\n     \"from bokeh.resources import INLINE\\n\"+\n     \"output_notebook(resources=INLINE)\\n\"+\n     \"</code>\\n\"+\n     \"</div>\"}};\n\n  function display_loaded() {\n    var el = document.getElementById(null);\n    if (el != null) {\n      el.textContent = \"BokehJS is loading...\";\n    }\n    if (root.Bokeh !== undefined) {\n      if (el != null) {\n        el.textContent = \"BokehJS \" + root.Bokeh.version + \" successfully loaded.\";\n      }\n    } else if (Date.now() < root._bokeh_timeout) {\n      setTimeout(display_loaded, 100)\n    }\n  }\n\n\n  function run_callbacks() {\n    try {\n      root._bokeh_onload_callbacks.forEach(function(callback) {\n        if (callback != null)\n          callback();\n      });\n    } finally {\n      delete root._bokeh_onload_callbacks\n    }\n    console.debug(\"Bokeh: all callbacks have finished\");\n  }\n\n  function load_libs(css_urls, js_urls, callback) {\n    if (css_urls == null) css_urls = [];\n    if (js_urls == null) js_urls = [];\n\n    root._bokeh_onload_callbacks.push(callback);\n    if (root._bokeh_is_loading > 0) {\n      console.debug(\"Bokeh: BokehJS is being loaded, scheduling callback at\", now());\n      return null;\n    }\n    if (js_urls == null || js_urls.length === 0) {\n      run_callbacks();\n      return null;\n    }\n    console.debug(\"Bokeh: BokehJS not loaded, scheduling load and callback at\", now());\n    root._bokeh_is_loading = css_urls.length + js_urls.length;\n\n    function on_load() {\n      root._bokeh_is_loading--;\n      if (root._bokeh_is_loading === 0) {\n        console.debug(\"Bokeh: all BokehJS libraries/stylesheets loaded\");\n        run_callbacks()\n      }\n    }\n\n    function on_error() {\n      console.error(\"failed to load \" + url);\n    }\n\n    for (var i = 0; i < css_urls.length; i++) {\n      var url = css_urls[i];\n      const element = document.createElement(\"link\");\n      element.onload = on_load;\n      element.onerror = on_error;\n      element.rel = \"stylesheet\";\n      element.type = \"text/css\";\n      element.href = url;\n      console.debug(\"Bokeh: injecting link tag for BokehJS stylesheet: \", url);\n      document.body.appendChild(element);\n    }\n\n    const hashes = {\"https://cdn.bokeh.org/bokeh/release/bokeh-2.1.1.min.js\": \"kLr4fYcqcSpbuI95brIH3vnnYCquzzSxHPU6XGQCIkQRGJwhg0StNbj1eegrHs12\", \"https://cdn.bokeh.org/bokeh/release/bokeh-widgets-2.1.1.min.js\": \"xIGPmVtaOm+z0BqfSOMn4lOR6ciex448GIKG4eE61LsAvmGj48XcMQZtKcE/UXZe\", \"https://cdn.bokeh.org/bokeh/release/bokeh-tables-2.1.1.min.js\": \"Dc9u1wF/0zApGIWoBbH77iWEHtdmkuYWG839Uzmv8y8yBLXebjO9ZnERsde5Ln/P\", \"https://cdn.bokeh.org/bokeh/release/bokeh-gl-2.1.1.min.js\": \"cT9JaBz7GiRXdENrJLZNSC6eMNF3nh3fa5fTF51Svp+ukxPdwcU5kGXGPBgDCa2j\"};\n\n    for (var i = 0; i < js_urls.length; i++) {\n      var url = js_urls[i];\n      var element = document.createElement('script');\n      element.onload = on_load;\n      element.onerror = on_error;\n      element.async = false;\n      element.src = url;\n      if (url in hashes) {\n        element.crossOrigin = \"anonymous\";\n        element.integrity = \"sha384-\" + hashes[url];\n      }\n      console.debug(\"Bokeh: injecting script tag for BokehJS library: \", url);\n      document.head.appendChild(element);\n    }\n  };\n\n  function inject_raw_css(css) {\n    const element = document.createElement(\"style\");\n    element.appendChild(document.createTextNode(css));\n    document.body.appendChild(element);\n  }\n\n  \n  var js_urls = [\"https://cdn.bokeh.org/bokeh/release/bokeh-2.1.1.min.js\", \"https://cdn.bokeh.org/bokeh/release/bokeh-widgets-2.1.1.min.js\", \"https://cdn.bokeh.org/bokeh/release/bokeh-tables-2.1.1.min.js\", \"https://cdn.bokeh.org/bokeh/release/bokeh-gl-2.1.1.min.js\"];\n  var css_urls = [];\n  \n\n  var inline_js = [\n    function(Bokeh) {\n      Bokeh.set_log_level(\"info\");\n    },\n    function(Bokeh) {\n    \n    \n    }\n  ];\n\n  function run_inline_js() {\n    \n    if (root.Bokeh !== undefined || force === true) {\n      \n    for (var i = 0; i < inline_js.length; i++) {\n      inline_js[i].call(root, root.Bokeh);\n    }\n    } else if (Date.now() < root._bokeh_timeout) {\n      setTimeout(run_inline_js, 100);\n    } else if (!root._bokeh_failed_load) {\n      console.log(\"Bokeh: BokehJS failed to load within specified timeout.\");\n      root._bokeh_failed_load = true;\n    } else if (force !== true) {\n      var cell = $(document.getElementById(null)).parents('.cell').data().cell;\n      cell.output_area.append_execute_result(NB_LOAD_WARNING)\n    }\n\n  }\n\n  if (root._bokeh_is_loading === 0) {\n    console.debug(\"Bokeh: BokehJS loaded, going straight to plotting\");\n    run_inline_js();\n  } else {\n    load_libs(css_urls, js_urls, function() {\n      console.debug(\"Bokeh: BokehJS plotting callback run at\", now());\n      run_inline_js();\n    });\n  }\n}(window));"
          },
          "metadata": {
            "tags": []
          }
        },
        {
          "output_type": "display_data",
          "data": {
            "text/html": [
              "\n",
              "\n",
              "\n",
              "\n",
              "\n",
              "\n",
              "  <div class=\"bk-root\" id=\"8ca5758d-02b8-4204-a018-86df74e39c05\" data-root-id=\"1424\"></div>\n"
            ]
          },
          "metadata": {
            "tags": []
          }
        },
        {
          "output_type": "display_data",
          "data": {
            "application/javascript": [
              "(function(root) {\n",
              "  function embed_document(root) {\n",
              "    \n",
              "  var docs_json = {\"79254e51-b6bb-4b69-a2d8-fb0898b06f9c\":{\"roots\":{\"references\":[{\"attributes\":{\"below\":[{\"id\":\"1433\"}],\"center\":[{\"id\":\"1435\"},{\"id\":\"1439\"}],\"left\":[{\"id\":\"1436\"}],\"plot_height\":1200,\"plot_width\":800,\"renderers\":[{\"id\":\"1457\"}],\"title\":{\"id\":\"1460\"},\"toolbar\":{\"id\":\"1447\"},\"x_range\":{\"id\":\"1425\"},\"x_scale\":{\"id\":\"1429\"},\"y_range\":{\"id\":\"1427\"},\"y_scale\":{\"id\":\"1431\"}},\"id\":\"1424\",\"subtype\":\"Figure\",\"type\":\"Plot\"},{\"attributes\":{},\"id\":\"1466\",\"type\":\"Selection\"},{\"attributes\":{},\"id\":\"1427\",\"type\":\"DataRange1d\"},{\"attributes\":{},\"id\":\"1443\",\"type\":\"SaveTool\"},{\"attributes\":{\"factors\":[\"1/6/2015\",\"1/10/2015\",\"1/12/2015\",\"1/22/2015\",\"2/9/2015\",\"2/12/2015\",\"2/16/2015\",\"2/20/2015\",\"2/26/2015\",\"2/28/2015\",\"3/4/2015\",\"4/1/2015\",\"5/13/2015\",\"5/29/2015\",\"6/3/2015\",\"7/7/2015\",\"8/17/2015\",\"8/26/2015\",\"8/28/2015\",\"8/29/2015\",\"8/30/2015\",\"8/31/2015\",\"9/1/2015\",\"9/2/2015\",\"9/3/2015\",\"9/4/2015\",\"9/5/2015\",\"9/6/2015\",\"9/7/2015\",\"9/8/2015\",\"9/9/2015\",\"9/10/2015\",\"9/11/2015\",\"9/12/2015\",\"9/13/2015\",\"9/15/2015\",\"9/19/2015\",\"9/21/2015\",\"9/23/2015\",\"9/24/2015\",\"9/25/2015\",\"9/27/2015\",\"9/28/2015\",\"9/29/2015\",\"9/30/2015\",\"10/1/2015\",\"10/2/2015\",\"10/3/2015\",\"10/4/2015\",\"10/5/2015\",\"10/6/2015\",\"10/7/2015\",\"10/8/2015\",\"10/9/2015\",\"10/11/2015\",\"10/12/2015\",\"10/13/2015\",\"10/14/2015\",\"10/15/2015\",\"10/16/2015\",\"10/17/2015\",\"10/18/2015\",\"10/19/2015\",\"10/20/2015\",\"10/21/2015\",\"10/22/2015\",\"10/23/2015\",\"10/24/2015\",\"10/25/2015\",\"10/26/2015\",\"10/27/2015\",\"10/28/2015\",\"10/29/2015\",\"10/31/2015\",\"11/1/2015\",\"11/2/2015\",\"11/3/2015\",\"11/4/2015\",\"11/11/2015\",\"11/12/2015\",\"11/14/2015\",\"11/15/2015\",\"11/16/2015\",\"11/17/2015\",\"11/18/2015\",\"11/19/2015\",\"11/21/2015\",\"11/22/2015\",\"11/23/2015\",\"11/25/2015\",\"11/26/2015\",\"11/27/2015\",\"11/28/2015\",\"11/29/2015\",\"12/1/2015\",\"12/4/2015\",\"12/5/2015\",\"12/6/2015\",\"12/7/2015\",\"12/8/2015\",\"12/9/2015\",\"12/11/2015\",\"12/12/2015\",\"12/13/2015\",\"12/14/2015\",\"12/15/2015\",\"12/16/2015\",\"12/17/2015\",\"12/18/2015\",\"12/19/2015\",\"12/20/2015\",\"12/21/2015\",\"12/22/2015\",\"12/23/2015\",\"12/24/2015\",\"12/25/2015\",\"12/26/2015\",\"12/27/2015\",\"12/28/2015\",\"12/29/2015\",\"12/30/2015\",\"12/31/2015\",\"1/1/2016\",\"1/2/2016\",\"1/3/2016\",\"1/4/2016\",\"1/5/2016\",\"1/6/2016\",\"1/7/2016\",\"1/8/2016\",\"1/9/2016\",\"1/10/2016\",\"1/11/2016\",\"1/12/2016\",\"1/13/2016\",\"1/14/2016\",\"1/15/2016\",\"1/16/2016\",\"1/17/2016\",\"1/18/2016\",\"1/19/2016\",\"1/20/2016\",\"1/21/2016\",\"1/22/2016\",\"1/23/2016\",\"1/24/2016\",\"1/25/2016\",\"1/26/2016\",\"1/27/2016\",\"1/28/2016\",\"1/29/2016\",\"1/30/2016\",\"1/31/2016\",\"2/1/2016\",\"2/2/2016\",\"2/3/2016\",\"2/4/2016\",\"2/5/2016\",\"2/6/2016\",\"2/7/2016\",\"2/8/2016\",\"2/9/2016\",\"2/10/2016\",\"2/11/2016\",\"2/12/2016\",\"2/13/2016\",\"2/14/2016\",\"2/15/2016\",\"2/16/2016\",\"2/17/2016\",\"2/18/2016\",\"2/19/2016\",\"2/20/2016\",\"2/21/2016\",\"2/22/2016\",\"2/23/2016\",\"2/24/2016\",\"2/25/2016\",\"2/26/2016\",\"2/27/2016\",\"2/28/2016\",\"2/29/2016\",\"3/1/2016\",\"3/2/2016\",\"3/3/2016\",\"3/4/2016\",\"3/5/2016\",\"3/6/2016\",\"3/7/2016\",\"3/8/2016\",\"3/9/2016\",\"3/10/2016\",\"3/11/2016\",\"3/12/2016\",\"3/13/2016\",\"3/14/2016\",\"3/15/2016\",\"3/16/2016\",\"3/17/2016\",\"3/18/2016\",\"3/19/2016\",\"3/20/2016\",\"3/21/2016\",\"3/22/2016\",\"3/23/2016\",\"3/24/2016\",\"3/25/2016\",\"3/26/2016\",\"3/27/2016\",\"3/28/2016\",\"3/29/2016\",\"3/30/2016\",\"3/31/2016\",\"4/1/2016\",\"4/2/2016\",\"4/3/2016\",\"4/4/2016\",\"4/5/2016\",\"4/6/2016\",\"4/7/2016\",\"4/8/2016\",\"4/9/2016\",\"4/10/2016\",\"4/11/2016\",\"4/12/2016\",\"4/13/2016\",\"4/14/2016\",\"4/15/2016\",\"4/16/2016\",\"4/17/2016\",\"4/18/2016\",\"4/19/2016\",\"4/20/2016\",\"4/21/2016\",\"4/22/2016\",\"4/23/2016\",\"4/24/2016\",\"4/25/2016\",\"4/26/2016\",\"4/27/2016\",\"4/28/2016\",\"4/29/2016\",\"4/30/2016\",\"5/1/2016\",\"5/2/2016\",\"5/3/2016\",\"5/4/2016\",\"5/5/2016\",\"5/6/2016\",\"5/7/2016\",\"5/8/2016\",\"5/9/2016\",\"5/10/2016\",\"5/11/2016\",\"5/12/2016\",\"5/13/2016\"]},\"id\":\"1425\",\"type\":\"FactorRange\"},{\"attributes\":{\"bottom_units\":\"screen\",\"fill_alpha\":0.5,\"fill_color\":\"lightgrey\",\"left_units\":\"screen\",\"level\":\"overlay\",\"line_alpha\":1.0,\"line_color\":\"black\",\"line_dash\":[4,4],\"line_width\":2,\"right_units\":\"screen\",\"top_units\":\"screen\"},\"id\":\"1446\",\"type\":\"BoxAnnotation\"},{\"attributes\":{},\"id\":\"1440\",\"type\":\"PanTool\"},{\"attributes\":{\"source\":{\"id\":\"1454\"}},\"id\":\"1458\",\"type\":\"CDSView\"},{\"attributes\":{\"axis\":{\"id\":\"1436\"},\"dimension\":1,\"ticker\":null},\"id\":\"1439\",\"type\":\"Grid\"},{\"attributes\":{\"text\":\"\"},\"id\":\"1460\",\"type\":\"Title\"},{\"attributes\":{},\"id\":\"1441\",\"type\":\"WheelZoomTool\"},{\"attributes\":{},\"id\":\"1464\",\"type\":\"BasicTickFormatter\"},{\"attributes\":{},\"id\":\"1445\",\"type\":\"HelpTool\"},{\"attributes\":{\"overlay\":{\"id\":\"1446\"}},\"id\":\"1442\",\"type\":\"BoxZoomTool\"},{\"attributes\":{\"formatter\":{\"id\":\"1464\"},\"ticker\":{\"id\":\"1437\"}},\"id\":\"1436\",\"type\":\"LinearAxis\"},{\"attributes\":{},\"id\":\"1462\",\"type\":\"CategoricalTickFormatter\"},{\"attributes\":{\"formatter\":{\"id\":\"1462\"},\"major_label_orientation\":1.5707963267948966,\"ticker\":{\"id\":\"1434\"}},\"id\":\"1433\",\"type\":\"CategoricalAxis\"},{\"attributes\":{\"data\":{\"top\":[9,2,1,2,1,2,1,3,2,1,1,1,1,1,1,1,1,2,1,11,18,10,16,8,14,9,52,4,4,4,18,5,4,1,5,7,4,2,20,18,48,7,6,7,7,9,4,4,5,20,12,6,5,9,9,2,1,6,2,4,8,8,7,4,3,5,8,4,14,2,1,2,7,4,6,3,14,9,3,16,1,18,1,4,2,2,4,2,1,1,1,1,1,2,2,3,5,3,4,1,8,8,3,33,7,5,3,7,1,1,3,1,7,12,11,10,33,12,10,11,23,16,28,23,16,9,25,20,15,6,18,25,21,30,32,12,31,81,27,19,51,52,22,41,36,35,37,70,53,92,149,165,513,91,71,56,192,258,172,77,112,87,178,217,207,67,15,31,116,148,125,273,58,79,80,121,126,195,188,81,142,131,64,184,268,98,70,76,64,112,146,178,237,12,14,44,144,148,209,253,4,54,98,183,127,371,408,42,132,74,77,82,186,208,44,78,56,155,160,288,376,47,88,174,131,203,237,125,57,112,56,106,167,224,323,79,107,197,105,134,180,284,79,114,106,125,178,247,389,115,85,81,112,264,451,103],\"x\":[\"1/6/2015\",\"1/10/2015\",\"1/12/2015\",\"1/22/2015\",\"2/9/2015\",\"2/12/2015\",\"2/16/2015\",\"2/20/2015\",\"2/26/2015\",\"2/28/2015\",\"3/4/2015\",\"4/1/2015\",\"5/13/2015\",\"5/29/2015\",\"6/3/2015\",\"7/7/2015\",\"8/17/2015\",\"8/26/2015\",\"8/28/2015\",\"8/29/2015\",\"8/30/2015\",\"8/31/2015\",\"9/1/2015\",\"9/2/2015\",\"9/3/2015\",\"9/4/2015\",\"9/5/2015\",\"9/6/2015\",\"9/7/2015\",\"9/8/2015\",\"9/9/2015\",\"9/10/2015\",\"9/11/2015\",\"9/12/2015\",\"9/13/2015\",\"9/15/2015\",\"9/19/2015\",\"9/21/2015\",\"9/23/2015\",\"9/24/2015\",\"9/25/2015\",\"9/27/2015\",\"9/28/2015\",\"9/29/2015\",\"9/30/2015\",\"10/1/2015\",\"10/2/2015\",\"10/3/2015\",\"10/4/2015\",\"10/5/2015\",\"10/6/2015\",\"10/7/2015\",\"10/8/2015\",\"10/9/2015\",\"10/11/2015\",\"10/12/2015\",\"10/13/2015\",\"10/14/2015\",\"10/15/2015\",\"10/16/2015\",\"10/17/2015\",\"10/18/2015\",\"10/19/2015\",\"10/20/2015\",\"10/21/2015\",\"10/22/2015\",\"10/23/2015\",\"10/24/2015\",\"10/25/2015\",\"10/26/2015\",\"10/27/2015\",\"10/28/2015\",\"10/29/2015\",\"10/31/2015\",\"11/1/2015\",\"11/2/2015\",\"11/3/2015\",\"11/4/2015\",\"11/11/2015\",\"11/12/2015\",\"11/14/2015\",\"11/15/2015\",\"11/16/2015\",\"11/17/2015\",\"11/18/2015\",\"11/19/2015\",\"11/21/2015\",\"11/22/2015\",\"11/23/2015\",\"11/25/2015\",\"11/26/2015\",\"11/27/2015\",\"11/28/2015\",\"11/29/2015\",\"12/1/2015\",\"12/4/2015\",\"12/5/2015\",\"12/6/2015\",\"12/7/2015\",\"12/8/2015\",\"12/9/2015\",\"12/11/2015\",\"12/12/2015\",\"12/13/2015\",\"12/14/2015\",\"12/15/2015\",\"12/16/2015\",\"12/17/2015\",\"12/18/2015\",\"12/19/2015\",\"12/20/2015\",\"12/21/2015\",\"12/22/2015\",\"12/23/2015\",\"12/24/2015\",\"12/25/2015\",\"12/26/2015\",\"12/27/2015\",\"12/28/2015\",\"12/29/2015\",\"12/30/2015\",\"12/31/2015\",\"1/1/2016\",\"1/2/2016\",\"1/3/2016\",\"1/4/2016\",\"1/5/2016\",\"1/6/2016\",\"1/7/2016\",\"1/8/2016\",\"1/9/2016\",\"1/10/2016\",\"1/11/2016\",\"1/12/2016\",\"1/13/2016\",\"1/14/2016\",\"1/15/2016\",\"1/16/2016\",\"1/17/2016\",\"1/18/2016\",\"1/19/2016\",\"1/20/2016\",\"1/21/2016\",\"1/22/2016\",\"1/23/2016\",\"1/24/2016\",\"1/25/2016\",\"1/26/2016\",\"1/27/2016\",\"1/28/2016\",\"1/29/2016\",\"1/30/2016\",\"1/31/2016\",\"2/1/2016\",\"2/2/2016\",\"2/3/2016\",\"2/4/2016\",\"2/5/2016\",\"2/6/2016\",\"2/7/2016\",\"2/8/2016\",\"2/9/2016\",\"2/10/2016\",\"2/11/2016\",\"2/12/2016\",\"2/13/2016\",\"2/14/2016\",\"2/15/2016\",\"2/16/2016\",\"2/17/2016\",\"2/18/2016\",\"2/19/2016\",\"2/20/2016\",\"2/21/2016\",\"2/22/2016\",\"2/23/2016\",\"2/24/2016\",\"2/25/2016\",\"2/26/2016\",\"2/27/2016\",\"2/28/2016\",\"2/29/2016\",\"3/1/2016\",\"3/2/2016\",\"3/3/2016\",\"3/4/2016\",\"3/5/2016\",\"3/6/2016\",\"3/7/2016\",\"3/8/2016\",\"3/9/2016\",\"3/10/2016\",\"3/11/2016\",\"3/12/2016\",\"3/13/2016\",\"3/14/2016\",\"3/15/2016\",\"3/16/2016\",\"3/17/2016\",\"3/18/2016\",\"3/19/2016\",\"3/20/2016\",\"3/21/2016\",\"3/22/2016\",\"3/23/2016\",\"3/24/2016\",\"3/25/2016\",\"3/26/2016\",\"3/27/2016\",\"3/28/2016\",\"3/29/2016\",\"3/30/2016\",\"3/31/2016\",\"4/1/2016\",\"4/2/2016\",\"4/3/2016\",\"4/4/2016\",\"4/5/2016\",\"4/6/2016\",\"4/7/2016\",\"4/8/2016\",\"4/9/2016\",\"4/10/2016\",\"4/11/2016\",\"4/12/2016\",\"4/13/2016\",\"4/14/2016\",\"4/15/2016\",\"4/16/2016\",\"4/17/2016\",\"4/18/2016\",\"4/19/2016\",\"4/20/2016\",\"4/21/2016\",\"4/22/2016\",\"4/23/2016\",\"4/24/2016\",\"4/25/2016\",\"4/26/2016\",\"4/27/2016\",\"4/28/2016\",\"4/29/2016\",\"4/30/2016\",\"5/1/2016\",\"5/2/2016\",\"5/3/2016\",\"5/4/2016\",\"5/5/2016\",\"5/6/2016\",\"5/7/2016\",\"5/8/2016\",\"5/9/2016\",\"5/10/2016\",\"5/11/2016\",\"5/12/2016\",\"5/13/2016\"]},\"selected\":{\"id\":\"1466\"},\"selection_policy\":{\"id\":\"1467\"}},\"id\":\"1454\",\"type\":\"ColumnDataSource\"},{\"attributes\":{},\"id\":\"1429\",\"type\":\"CategoricalScale\"},{\"attributes\":{\"fill_alpha\":{\"value\":0.1},\"fill_color\":{\"value\":\"firebrick\"},\"line_alpha\":{\"value\":0.1},\"line_color\":{\"value\":\"firebrick\"},\"top\":{\"field\":\"top\"},\"width\":{\"value\":0.5},\"x\":{\"field\":\"x\"}},\"id\":\"1456\",\"type\":\"VBar\"},{\"attributes\":{},\"id\":\"1437\",\"type\":\"BasicTicker\"},{\"attributes\":{\"active_drag\":\"auto\",\"active_inspect\":\"auto\",\"active_multi\":null,\"active_scroll\":\"auto\",\"active_tap\":\"auto\",\"tools\":[{\"id\":\"1440\"},{\"id\":\"1441\"},{\"id\":\"1442\"},{\"id\":\"1443\"},{\"id\":\"1444\"},{\"id\":\"1445\"}]},\"id\":\"1447\",\"type\":\"Toolbar\"},{\"attributes\":{},\"id\":\"1467\",\"type\":\"UnionRenderers\"},{\"attributes\":{},\"id\":\"1444\",\"type\":\"ResetTool\"},{\"attributes\":{\"fill_color\":{\"value\":\"firebrick\"},\"line_color\":{\"value\":\"firebrick\"},\"top\":{\"field\":\"top\"},\"width\":{\"value\":0.5},\"x\":{\"field\":\"x\"}},\"id\":\"1455\",\"type\":\"VBar\"},{\"attributes\":{\"axis\":{\"id\":\"1433\"},\"ticker\":null},\"id\":\"1435\",\"type\":\"Grid\"},{\"attributes\":{\"data_source\":{\"id\":\"1454\"},\"glyph\":{\"id\":\"1455\"},\"hover_glyph\":null,\"muted_glyph\":null,\"nonselection_glyph\":{\"id\":\"1456\"},\"selection_glyph\":null,\"view\":{\"id\":\"1458\"}},\"id\":\"1457\",\"type\":\"GlyphRenderer\"},{\"attributes\":{},\"id\":\"1434\",\"type\":\"CategoricalTicker\"},{\"attributes\":{},\"id\":\"1431\",\"type\":\"LinearScale\"}],\"root_ids\":[\"1424\"]},\"title\":\"Bokeh Application\",\"version\":\"2.1.1\"}};\n",
              "  var render_items = [{\"docid\":\"79254e51-b6bb-4b69-a2d8-fb0898b06f9c\",\"root_ids\":[\"1424\"],\"roots\":{\"1424\":\"8ca5758d-02b8-4204-a018-86df74e39c05\"}}];\n",
              "  root.Bokeh.embed.embed_items_notebook(docs_json, render_items);\n",
              "\n",
              "  }\n",
              "  if (root.Bokeh !== undefined) {\n",
              "    embed_document(root);\n",
              "  } else {\n",
              "    var attempts = 0;\n",
              "    var timer = setInterval(function(root) {\n",
              "      if (root.Bokeh !== undefined) {\n",
              "        clearInterval(timer);\n",
              "        embed_document(root);\n",
              "      } else {\n",
              "        attempts++;\n",
              "        if (attempts > 100) {\n",
              "          clearInterval(timer);\n",
              "          console.log(\"Bokeh: ERROR: Unable to run BokehJS code because BokehJS library is missing\");\n",
              "        }\n",
              "      }\n",
              "    }, 10, root)\n",
              "  }\n",
              "})(window);"
            ],
            "application/vnd.bokehjs_exec.v0+json": ""
          },
          "metadata": {
            "tags": [],
            "application/vnd.bokehjs_exec.v0+json": {
              "id": "1424"
            }
          }
        }
      ]
    },
    {
      "cell_type": "code",
      "metadata": {
        "id": "1p-NbT3JnORi"
      },
      "source": [
        "#sorts from smallest to largest\r\n",
        "sorted_days = sorted(days, key=lambda x: tweetcount[days.index(x)])\r\n",
        "sorted_tweetcount = sorted(tweetcount)"
      ],
      "execution_count": 28,
      "outputs": []
    },
    {
      "cell_type": "code",
      "metadata": {
        "colab": {
          "base_uri": "https://localhost:8080/",
          "height": 0
        },
        "id": "vxtW601Woo33",
        "outputId": "3c30d27b-d2c8-4d8e-e7b3-11983cb38f67"
      },
      "source": [
        "# this is a check to make sure they are sorted smallest to largest\r\n",
        "# before we take the top ten descriptions to plot\r\n",
        "sorted_days[-10:]\r\n",
        "sorted_tweetcount[-10:]"
      ],
      "execution_count": 29,
      "outputs": [
        {
          "output_type": "execute_result",
          "data": {
            "text/plain": [
              "[273, 284, 288, 323, 371, 376, 389, 408, 451, 513]"
            ]
          },
          "metadata": {
            "tags": []
          },
          "execution_count": 29
        }
      ]
    },
    {
      "cell_type": "code",
      "metadata": {
        "colab": {
          "base_uri": "https://localhost:8080/",
          "height": 1217
        },
        "id": "4PE957uBozST",
        "outputId": "603771b0-ecb5-426f-efaf-21db844f5f33"
      },
      "source": [
        "# Uses the bokeh library to plot an interactive graph\r\n",
        "p = figure(x_range = sorted_days[-10:], plot_width=800, plot_height=1200)\r\n",
        "\r\n",
        "#Plots the data\r\n",
        "p.vbar(x=sorted_days[-10:], width=0.5, bottom=0,\r\n",
        "       top= sorted_tweetcount[-10:], color=\"firebrick\")\r\n",
        "\r\n",
        "p.xaxis.major_label_orientation = math.pi/2  #Rotates the labels on the X axis\r\n",
        "show(p)"
      ],
      "execution_count": 30,
      "outputs": [
        {
          "output_type": "display_data",
          "data": {
            "application/javascript": [
              "\n",
              "(function(root) {\n",
              "  function now() {\n",
              "    return new Date();\n",
              "  }\n",
              "\n",
              "  var force = true;\n",
              "\n",
              "  if (typeof root._bokeh_onload_callbacks === \"undefined\" || force === true) {\n",
              "    root._bokeh_onload_callbacks = [];\n",
              "    root._bokeh_is_loading = undefined;\n",
              "  }\n",
              "\n",
              "  var JS_MIME_TYPE = 'application/javascript';\n",
              "  var HTML_MIME_TYPE = 'text/html';\n",
              "  var EXEC_MIME_TYPE = 'application/vnd.bokehjs_exec.v0+json';\n",
              "  var CLASS_NAME = 'output_bokeh rendered_html';\n",
              "\n",
              "  /**\n",
              "   * Render data to the DOM node\n",
              "   */\n",
              "  function render(props, node) {\n",
              "    var script = document.createElement(\"script\");\n",
              "    node.appendChild(script);\n",
              "  }\n",
              "\n",
              "  /**\n",
              "   * Handle when an output is cleared or removed\n",
              "   */\n",
              "  function handleClearOutput(event, handle) {\n",
              "    var cell = handle.cell;\n",
              "\n",
              "    var id = cell.output_area._bokeh_element_id;\n",
              "    var server_id = cell.output_area._bokeh_server_id;\n",
              "    // Clean up Bokeh references\n",
              "    if (id != null && id in Bokeh.index) {\n",
              "      Bokeh.index[id].model.document.clear();\n",
              "      delete Bokeh.index[id];\n",
              "    }\n",
              "\n",
              "    if (server_id !== undefined) {\n",
              "      // Clean up Bokeh references\n",
              "      var cmd = \"from bokeh.io.state import curstate; print(curstate().uuid_to_server['\" + server_id + \"'].get_sessions()[0].document.roots[0]._id)\";\n",
              "      cell.notebook.kernel.execute(cmd, {\n",
              "        iopub: {\n",
              "          output: function(msg) {\n",
              "            var id = msg.content.text.trim();\n",
              "            if (id in Bokeh.index) {\n",
              "              Bokeh.index[id].model.document.clear();\n",
              "              delete Bokeh.index[id];\n",
              "            }\n",
              "          }\n",
              "        }\n",
              "      });\n",
              "      // Destroy server and session\n",
              "      var cmd = \"import bokeh.io.notebook as ion; ion.destroy_server('\" + server_id + \"')\";\n",
              "      cell.notebook.kernel.execute(cmd);\n",
              "    }\n",
              "  }\n",
              "\n",
              "  /**\n",
              "   * Handle when a new output is added\n",
              "   */\n",
              "  function handleAddOutput(event, handle) {\n",
              "    var output_area = handle.output_area;\n",
              "    var output = handle.output;\n",
              "\n",
              "    // limit handleAddOutput to display_data with EXEC_MIME_TYPE content only\n",
              "    if ((output.output_type != \"display_data\") || (!output.data.hasOwnProperty(EXEC_MIME_TYPE))) {\n",
              "      return\n",
              "    }\n",
              "\n",
              "    var toinsert = output_area.element.find(\".\" + CLASS_NAME.split(' ')[0]);\n",
              "\n",
              "    if (output.metadata[EXEC_MIME_TYPE][\"id\"] !== undefined) {\n",
              "      toinsert[toinsert.length - 1].firstChild.textContent = output.data[JS_MIME_TYPE];\n",
              "      // store reference to embed id on output_area\n",
              "      output_area._bokeh_element_id = output.metadata[EXEC_MIME_TYPE][\"id\"];\n",
              "    }\n",
              "    if (output.metadata[EXEC_MIME_TYPE][\"server_id\"] !== undefined) {\n",
              "      var bk_div = document.createElement(\"div\");\n",
              "      bk_div.innerHTML = output.data[HTML_MIME_TYPE];\n",
              "      var script_attrs = bk_div.children[0].attributes;\n",
              "      for (var i = 0; i < script_attrs.length; i++) {\n",
              "        toinsert[toinsert.length - 1].firstChild.setAttribute(script_attrs[i].name, script_attrs[i].value);\n",
              "        toinsert[toinsert.length - 1].firstChild.textContent = bk_div.children[0].textContent\n",
              "      }\n",
              "      // store reference to server id on output_area\n",
              "      output_area._bokeh_server_id = output.metadata[EXEC_MIME_TYPE][\"server_id\"];\n",
              "    }\n",
              "  }\n",
              "\n",
              "  function register_renderer(events, OutputArea) {\n",
              "\n",
              "    function append_mime(data, metadata, element) {\n",
              "      // create a DOM node to render to\n",
              "      var toinsert = this.create_output_subarea(\n",
              "        metadata,\n",
              "        CLASS_NAME,\n",
              "        EXEC_MIME_TYPE\n",
              "      );\n",
              "      this.keyboard_manager.register_events(toinsert);\n",
              "      // Render to node\n",
              "      var props = {data: data, metadata: metadata[EXEC_MIME_TYPE]};\n",
              "      render(props, toinsert[toinsert.length - 1]);\n",
              "      element.append(toinsert);\n",
              "      return toinsert\n",
              "    }\n",
              "\n",
              "    /* Handle when an output is cleared or removed */\n",
              "    events.on('clear_output.CodeCell', handleClearOutput);\n",
              "    events.on('delete.Cell', handleClearOutput);\n",
              "\n",
              "    /* Handle when a new output is added */\n",
              "    events.on('output_added.OutputArea', handleAddOutput);\n",
              "\n",
              "    /**\n",
              "     * Register the mime type and append_mime function with output_area\n",
              "     */\n",
              "    OutputArea.prototype.register_mime_type(EXEC_MIME_TYPE, append_mime, {\n",
              "      /* Is output safe? */\n",
              "      safe: true,\n",
              "      /* Index of renderer in `output_area.display_order` */\n",
              "      index: 0\n",
              "    });\n",
              "  }\n",
              "\n",
              "  // register the mime type if in Jupyter Notebook environment and previously unregistered\n",
              "  if (root.Jupyter !== undefined) {\n",
              "    var events = require('base/js/events');\n",
              "    var OutputArea = require('notebook/js/outputarea').OutputArea;\n",
              "\n",
              "    if (OutputArea.prototype.mime_types().indexOf(EXEC_MIME_TYPE) == -1) {\n",
              "      register_renderer(events, OutputArea);\n",
              "    }\n",
              "  }\n",
              "\n",
              "  \n",
              "  if (typeof (root._bokeh_timeout) === \"undefined\" || force === true) {\n",
              "    root._bokeh_timeout = Date.now() + 5000;\n",
              "    root._bokeh_failed_load = false;\n",
              "  }\n",
              "\n",
              "  var NB_LOAD_WARNING = {'data': {'text/html':\n",
              "     \"<div style='background-color: #fdd'>\\n\"+\n",
              "     \"<p>\\n\"+\n",
              "     \"BokehJS does not appear to have successfully loaded. If loading BokehJS from CDN, this \\n\"+\n",
              "     \"may be due to a slow or bad network connection. Possible fixes:\\n\"+\n",
              "     \"</p>\\n\"+\n",
              "     \"<ul>\\n\"+\n",
              "     \"<li>re-rerun `output_notebook()` to attempt to load from CDN again, or</li>\\n\"+\n",
              "     \"<li>use INLINE resources instead, as so:</li>\\n\"+\n",
              "     \"</ul>\\n\"+\n",
              "     \"<code>\\n\"+\n",
              "     \"from bokeh.resources import INLINE\\n\"+\n",
              "     \"output_notebook(resources=INLINE)\\n\"+\n",
              "     \"</code>\\n\"+\n",
              "     \"</div>\"}};\n",
              "\n",
              "  function display_loaded() {\n",
              "    var el = document.getElementById(null);\n",
              "    if (el != null) {\n",
              "      el.textContent = \"BokehJS is loading...\";\n",
              "    }\n",
              "    if (root.Bokeh !== undefined) {\n",
              "      if (el != null) {\n",
              "        el.textContent = \"BokehJS \" + root.Bokeh.version + \" successfully loaded.\";\n",
              "      }\n",
              "    } else if (Date.now() < root._bokeh_timeout) {\n",
              "      setTimeout(display_loaded, 100)\n",
              "    }\n",
              "  }\n",
              "\n",
              "\n",
              "  function run_callbacks() {\n",
              "    try {\n",
              "      root._bokeh_onload_callbacks.forEach(function(callback) {\n",
              "        if (callback != null)\n",
              "          callback();\n",
              "      });\n",
              "    } finally {\n",
              "      delete root._bokeh_onload_callbacks\n",
              "    }\n",
              "    console.debug(\"Bokeh: all callbacks have finished\");\n",
              "  }\n",
              "\n",
              "  function load_libs(css_urls, js_urls, callback) {\n",
              "    if (css_urls == null) css_urls = [];\n",
              "    if (js_urls == null) js_urls = [];\n",
              "\n",
              "    root._bokeh_onload_callbacks.push(callback);\n",
              "    if (root._bokeh_is_loading > 0) {\n",
              "      console.debug(\"Bokeh: BokehJS is being loaded, scheduling callback at\", now());\n",
              "      return null;\n",
              "    }\n",
              "    if (js_urls == null || js_urls.length === 0) {\n",
              "      run_callbacks();\n",
              "      return null;\n",
              "    }\n",
              "    console.debug(\"Bokeh: BokehJS not loaded, scheduling load and callback at\", now());\n",
              "    root._bokeh_is_loading = css_urls.length + js_urls.length;\n",
              "\n",
              "    function on_load() {\n",
              "      root._bokeh_is_loading--;\n",
              "      if (root._bokeh_is_loading === 0) {\n",
              "        console.debug(\"Bokeh: all BokehJS libraries/stylesheets loaded\");\n",
              "        run_callbacks()\n",
              "      }\n",
              "    }\n",
              "\n",
              "    function on_error() {\n",
              "      console.error(\"failed to load \" + url);\n",
              "    }\n",
              "\n",
              "    for (var i = 0; i < css_urls.length; i++) {\n",
              "      var url = css_urls[i];\n",
              "      const element = document.createElement(\"link\");\n",
              "      element.onload = on_load;\n",
              "      element.onerror = on_error;\n",
              "      element.rel = \"stylesheet\";\n",
              "      element.type = \"text/css\";\n",
              "      element.href = url;\n",
              "      console.debug(\"Bokeh: injecting link tag for BokehJS stylesheet: \", url);\n",
              "      document.body.appendChild(element);\n",
              "    }\n",
              "\n",
              "    const hashes = {\"https://cdn.bokeh.org/bokeh/release/bokeh-2.1.1.min.js\": \"kLr4fYcqcSpbuI95brIH3vnnYCquzzSxHPU6XGQCIkQRGJwhg0StNbj1eegrHs12\", \"https://cdn.bokeh.org/bokeh/release/bokeh-widgets-2.1.1.min.js\": \"xIGPmVtaOm+z0BqfSOMn4lOR6ciex448GIKG4eE61LsAvmGj48XcMQZtKcE/UXZe\", \"https://cdn.bokeh.org/bokeh/release/bokeh-tables-2.1.1.min.js\": \"Dc9u1wF/0zApGIWoBbH77iWEHtdmkuYWG839Uzmv8y8yBLXebjO9ZnERsde5Ln/P\", \"https://cdn.bokeh.org/bokeh/release/bokeh-gl-2.1.1.min.js\": \"cT9JaBz7GiRXdENrJLZNSC6eMNF3nh3fa5fTF51Svp+ukxPdwcU5kGXGPBgDCa2j\"};\n",
              "\n",
              "    for (var i = 0; i < js_urls.length; i++) {\n",
              "      var url = js_urls[i];\n",
              "      var element = document.createElement('script');\n",
              "      element.onload = on_load;\n",
              "      element.onerror = on_error;\n",
              "      element.async = false;\n",
              "      element.src = url;\n",
              "      if (url in hashes) {\n",
              "        element.crossOrigin = \"anonymous\";\n",
              "        element.integrity = \"sha384-\" + hashes[url];\n",
              "      }\n",
              "      console.debug(\"Bokeh: injecting script tag for BokehJS library: \", url);\n",
              "      document.head.appendChild(element);\n",
              "    }\n",
              "  };\n",
              "\n",
              "  function inject_raw_css(css) {\n",
              "    const element = document.createElement(\"style\");\n",
              "    element.appendChild(document.createTextNode(css));\n",
              "    document.body.appendChild(element);\n",
              "  }\n",
              "\n",
              "  \n",
              "  var js_urls = [\"https://cdn.bokeh.org/bokeh/release/bokeh-2.1.1.min.js\", \"https://cdn.bokeh.org/bokeh/release/bokeh-widgets-2.1.1.min.js\", \"https://cdn.bokeh.org/bokeh/release/bokeh-tables-2.1.1.min.js\", \"https://cdn.bokeh.org/bokeh/release/bokeh-gl-2.1.1.min.js\"];\n",
              "  var css_urls = [];\n",
              "  \n",
              "\n",
              "  var inline_js = [\n",
              "    function(Bokeh) {\n",
              "      Bokeh.set_log_level(\"info\");\n",
              "    },\n",
              "    function(Bokeh) {\n",
              "    \n",
              "    \n",
              "    }\n",
              "  ];\n",
              "\n",
              "  function run_inline_js() {\n",
              "    \n",
              "    if (root.Bokeh !== undefined || force === true) {\n",
              "      \n",
              "    for (var i = 0; i < inline_js.length; i++) {\n",
              "      inline_js[i].call(root, root.Bokeh);\n",
              "    }\n",
              "    } else if (Date.now() < root._bokeh_timeout) {\n",
              "      setTimeout(run_inline_js, 100);\n",
              "    } else if (!root._bokeh_failed_load) {\n",
              "      console.log(\"Bokeh: BokehJS failed to load within specified timeout.\");\n",
              "      root._bokeh_failed_load = true;\n",
              "    } else if (force !== true) {\n",
              "      var cell = $(document.getElementById(null)).parents('.cell').data().cell;\n",
              "      cell.output_area.append_execute_result(NB_LOAD_WARNING)\n",
              "    }\n",
              "\n",
              "  }\n",
              "\n",
              "  if (root._bokeh_is_loading === 0) {\n",
              "    console.debug(\"Bokeh: BokehJS loaded, going straight to plotting\");\n",
              "    run_inline_js();\n",
              "  } else {\n",
              "    load_libs(css_urls, js_urls, function() {\n",
              "      console.debug(\"Bokeh: BokehJS plotting callback run at\", now());\n",
              "      run_inline_js();\n",
              "    });\n",
              "  }\n",
              "}(window));"
            ],
            "application/vnd.bokehjs_load.v0+json": "\n(function(root) {\n  function now() {\n    return new Date();\n  }\n\n  var force = true;\n\n  if (typeof root._bokeh_onload_callbacks === \"undefined\" || force === true) {\n    root._bokeh_onload_callbacks = [];\n    root._bokeh_is_loading = undefined;\n  }\n\n  \n\n  \n  if (typeof (root._bokeh_timeout) === \"undefined\" || force === true) {\n    root._bokeh_timeout = Date.now() + 5000;\n    root._bokeh_failed_load = false;\n  }\n\n  var NB_LOAD_WARNING = {'data': {'text/html':\n     \"<div style='background-color: #fdd'>\\n\"+\n     \"<p>\\n\"+\n     \"BokehJS does not appear to have successfully loaded. If loading BokehJS from CDN, this \\n\"+\n     \"may be due to a slow or bad network connection. Possible fixes:\\n\"+\n     \"</p>\\n\"+\n     \"<ul>\\n\"+\n     \"<li>re-rerun `output_notebook()` to attempt to load from CDN again, or</li>\\n\"+\n     \"<li>use INLINE resources instead, as so:</li>\\n\"+\n     \"</ul>\\n\"+\n     \"<code>\\n\"+\n     \"from bokeh.resources import INLINE\\n\"+\n     \"output_notebook(resources=INLINE)\\n\"+\n     \"</code>\\n\"+\n     \"</div>\"}};\n\n  function display_loaded() {\n    var el = document.getElementById(null);\n    if (el != null) {\n      el.textContent = \"BokehJS is loading...\";\n    }\n    if (root.Bokeh !== undefined) {\n      if (el != null) {\n        el.textContent = \"BokehJS \" + root.Bokeh.version + \" successfully loaded.\";\n      }\n    } else if (Date.now() < root._bokeh_timeout) {\n      setTimeout(display_loaded, 100)\n    }\n  }\n\n\n  function run_callbacks() {\n    try {\n      root._bokeh_onload_callbacks.forEach(function(callback) {\n        if (callback != null)\n          callback();\n      });\n    } finally {\n      delete root._bokeh_onload_callbacks\n    }\n    console.debug(\"Bokeh: all callbacks have finished\");\n  }\n\n  function load_libs(css_urls, js_urls, callback) {\n    if (css_urls == null) css_urls = [];\n    if (js_urls == null) js_urls = [];\n\n    root._bokeh_onload_callbacks.push(callback);\n    if (root._bokeh_is_loading > 0) {\n      console.debug(\"Bokeh: BokehJS is being loaded, scheduling callback at\", now());\n      return null;\n    }\n    if (js_urls == null || js_urls.length === 0) {\n      run_callbacks();\n      return null;\n    }\n    console.debug(\"Bokeh: BokehJS not loaded, scheduling load and callback at\", now());\n    root._bokeh_is_loading = css_urls.length + js_urls.length;\n\n    function on_load() {\n      root._bokeh_is_loading--;\n      if (root._bokeh_is_loading === 0) {\n        console.debug(\"Bokeh: all BokehJS libraries/stylesheets loaded\");\n        run_callbacks()\n      }\n    }\n\n    function on_error() {\n      console.error(\"failed to load \" + url);\n    }\n\n    for (var i = 0; i < css_urls.length; i++) {\n      var url = css_urls[i];\n      const element = document.createElement(\"link\");\n      element.onload = on_load;\n      element.onerror = on_error;\n      element.rel = \"stylesheet\";\n      element.type = \"text/css\";\n      element.href = url;\n      console.debug(\"Bokeh: injecting link tag for BokehJS stylesheet: \", url);\n      document.body.appendChild(element);\n    }\n\n    const hashes = {\"https://cdn.bokeh.org/bokeh/release/bokeh-2.1.1.min.js\": \"kLr4fYcqcSpbuI95brIH3vnnYCquzzSxHPU6XGQCIkQRGJwhg0StNbj1eegrHs12\", \"https://cdn.bokeh.org/bokeh/release/bokeh-widgets-2.1.1.min.js\": \"xIGPmVtaOm+z0BqfSOMn4lOR6ciex448GIKG4eE61LsAvmGj48XcMQZtKcE/UXZe\", \"https://cdn.bokeh.org/bokeh/release/bokeh-tables-2.1.1.min.js\": \"Dc9u1wF/0zApGIWoBbH77iWEHtdmkuYWG839Uzmv8y8yBLXebjO9ZnERsde5Ln/P\", \"https://cdn.bokeh.org/bokeh/release/bokeh-gl-2.1.1.min.js\": \"cT9JaBz7GiRXdENrJLZNSC6eMNF3nh3fa5fTF51Svp+ukxPdwcU5kGXGPBgDCa2j\"};\n\n    for (var i = 0; i < js_urls.length; i++) {\n      var url = js_urls[i];\n      var element = document.createElement('script');\n      element.onload = on_load;\n      element.onerror = on_error;\n      element.async = false;\n      element.src = url;\n      if (url in hashes) {\n        element.crossOrigin = \"anonymous\";\n        element.integrity = \"sha384-\" + hashes[url];\n      }\n      console.debug(\"Bokeh: injecting script tag for BokehJS library: \", url);\n      document.head.appendChild(element);\n    }\n  };\n\n  function inject_raw_css(css) {\n    const element = document.createElement(\"style\");\n    element.appendChild(document.createTextNode(css));\n    document.body.appendChild(element);\n  }\n\n  \n  var js_urls = [\"https://cdn.bokeh.org/bokeh/release/bokeh-2.1.1.min.js\", \"https://cdn.bokeh.org/bokeh/release/bokeh-widgets-2.1.1.min.js\", \"https://cdn.bokeh.org/bokeh/release/bokeh-tables-2.1.1.min.js\", \"https://cdn.bokeh.org/bokeh/release/bokeh-gl-2.1.1.min.js\"];\n  var css_urls = [];\n  \n\n  var inline_js = [\n    function(Bokeh) {\n      Bokeh.set_log_level(\"info\");\n    },\n    function(Bokeh) {\n    \n    \n    }\n  ];\n\n  function run_inline_js() {\n    \n    if (root.Bokeh !== undefined || force === true) {\n      \n    for (var i = 0; i < inline_js.length; i++) {\n      inline_js[i].call(root, root.Bokeh);\n    }\n    } else if (Date.now() < root._bokeh_timeout) {\n      setTimeout(run_inline_js, 100);\n    } else if (!root._bokeh_failed_load) {\n      console.log(\"Bokeh: BokehJS failed to load within specified timeout.\");\n      root._bokeh_failed_load = true;\n    } else if (force !== true) {\n      var cell = $(document.getElementById(null)).parents('.cell').data().cell;\n      cell.output_area.append_execute_result(NB_LOAD_WARNING)\n    }\n\n  }\n\n  if (root._bokeh_is_loading === 0) {\n    console.debug(\"Bokeh: BokehJS loaded, going straight to plotting\");\n    run_inline_js();\n  } else {\n    load_libs(css_urls, js_urls, function() {\n      console.debug(\"Bokeh: BokehJS plotting callback run at\", now());\n      run_inline_js();\n    });\n  }\n}(window));"
          },
          "metadata": {
            "tags": []
          }
        },
        {
          "output_type": "display_data",
          "data": {
            "text/html": [
              "\n",
              "\n",
              "\n",
              "\n",
              "\n",
              "\n",
              "  <div class=\"bk-root\" id=\"d4a89220-146a-4868-9f29-8d7f899928c0\" data-root-id=\"1522\"></div>\n"
            ]
          },
          "metadata": {
            "tags": []
          }
        },
        {
          "output_type": "display_data",
          "data": {
            "application/javascript": [
              "(function(root) {\n",
              "  function embed_document(root) {\n",
              "    \n",
              "  var docs_json = {\"8e3052ba-c733-446e-a795-40efb8feef78\":{\"roots\":{\"references\":[{\"attributes\":{\"below\":[{\"id\":\"1531\"}],\"center\":[{\"id\":\"1533\"},{\"id\":\"1537\"}],\"left\":[{\"id\":\"1534\"}],\"plot_height\":1200,\"plot_width\":800,\"renderers\":[{\"id\":\"1555\"}],\"title\":{\"id\":\"1567\"},\"toolbar\":{\"id\":\"1545\"},\"x_range\":{\"id\":\"1523\"},\"x_scale\":{\"id\":\"1527\"},\"y_range\":{\"id\":\"1525\"},\"y_scale\":{\"id\":\"1529\"}},\"id\":\"1522\",\"subtype\":\"Figure\",\"type\":\"Plot\"},{\"attributes\":{},\"id\":\"1538\",\"type\":\"PanTool\"},{\"attributes\":{},\"id\":\"1571\",\"type\":\"BasicTickFormatter\"},{\"attributes\":{},\"id\":\"1569\",\"type\":\"CategoricalTickFormatter\"},{\"attributes\":{},\"id\":\"1539\",\"type\":\"WheelZoomTool\"},{\"attributes\":{\"fill_alpha\":{\"value\":0.1},\"fill_color\":{\"value\":\"firebrick\"},\"line_alpha\":{\"value\":0.1},\"line_color\":{\"value\":\"firebrick\"},\"top\":{\"field\":\"top\"},\"width\":{\"value\":0.5},\"x\":{\"field\":\"x\"}},\"id\":\"1554\",\"type\":\"VBar\"},{\"attributes\":{},\"id\":\"1574\",\"type\":\"UnionRenderers\"},{\"attributes\":{},\"id\":\"1541\",\"type\":\"SaveTool\"},{\"attributes\":{\"overlay\":{\"id\":\"1544\"}},\"id\":\"1540\",\"type\":\"BoxZoomTool\"},{\"attributes\":{\"data\":{\"top\":[273,284,288,323,371,376,389,408,451,513],\"x\":[\"2/19/2016\",\"4/29/2016\",\"4/7/2016\",\"4/22/2016\",\"3/24/2016\",\"4/8/2016\",\"5/6/2016\",\"3/25/2016\",\"5/12/2016\",\"1/31/2016\"]},\"selected\":{\"id\":\"1573\"},\"selection_policy\":{\"id\":\"1574\"}},\"id\":\"1552\",\"type\":\"ColumnDataSource\"},{\"attributes\":{},\"id\":\"1542\",\"type\":\"ResetTool\"},{\"attributes\":{},\"id\":\"1543\",\"type\":\"HelpTool\"},{\"attributes\":{},\"id\":\"1529\",\"type\":\"LinearScale\"},{\"attributes\":{\"active_drag\":\"auto\",\"active_inspect\":\"auto\",\"active_multi\":null,\"active_scroll\":\"auto\",\"active_tap\":\"auto\",\"tools\":[{\"id\":\"1538\"},{\"id\":\"1539\"},{\"id\":\"1540\"},{\"id\":\"1541\"},{\"id\":\"1542\"},{\"id\":\"1543\"}]},\"id\":\"1545\",\"type\":\"Toolbar\"},{\"attributes\":{},\"id\":\"1525\",\"type\":\"DataRange1d\"},{\"attributes\":{\"factors\":[\"2/19/2016\",\"4/29/2016\",\"4/7/2016\",\"4/22/2016\",\"3/24/2016\",\"4/8/2016\",\"5/6/2016\",\"3/25/2016\",\"5/12/2016\",\"1/31/2016\"]},\"id\":\"1523\",\"type\":\"FactorRange\"},{\"attributes\":{\"fill_color\":{\"value\":\"firebrick\"},\"line_color\":{\"value\":\"firebrick\"},\"top\":{\"field\":\"top\"},\"width\":{\"value\":0.5},\"x\":{\"field\":\"x\"}},\"id\":\"1553\",\"type\":\"VBar\"},{\"attributes\":{\"bottom_units\":\"screen\",\"fill_alpha\":0.5,\"fill_color\":\"lightgrey\",\"left_units\":\"screen\",\"level\":\"overlay\",\"line_alpha\":1.0,\"line_color\":\"black\",\"line_dash\":[4,4],\"line_width\":2,\"right_units\":\"screen\",\"top_units\":\"screen\"},\"id\":\"1544\",\"type\":\"BoxAnnotation\"},{\"attributes\":{},\"id\":\"1527\",\"type\":\"CategoricalScale\"},{\"attributes\":{\"data_source\":{\"id\":\"1552\"},\"glyph\":{\"id\":\"1553\"},\"hover_glyph\":null,\"muted_glyph\":null,\"nonselection_glyph\":{\"id\":\"1554\"},\"selection_glyph\":null,\"view\":{\"id\":\"1556\"}},\"id\":\"1555\",\"type\":\"GlyphRenderer\"},{\"attributes\":{},\"id\":\"1532\",\"type\":\"CategoricalTicker\"},{\"attributes\":{\"source\":{\"id\":\"1552\"}},\"id\":\"1556\",\"type\":\"CDSView\"},{\"attributes\":{\"axis\":{\"id\":\"1531\"},\"ticker\":null},\"id\":\"1533\",\"type\":\"Grid\"},{\"attributes\":{\"formatter\":{\"id\":\"1569\"},\"major_label_orientation\":1.5707963267948966,\"ticker\":{\"id\":\"1532\"}},\"id\":\"1531\",\"type\":\"CategoricalAxis\"},{\"attributes\":{},\"id\":\"1535\",\"type\":\"BasicTicker\"},{\"attributes\":{\"text\":\"\"},\"id\":\"1567\",\"type\":\"Title\"},{\"attributes\":{\"axis\":{\"id\":\"1534\"},\"dimension\":1,\"ticker\":null},\"id\":\"1537\",\"type\":\"Grid\"},{\"attributes\":{},\"id\":\"1573\",\"type\":\"Selection\"},{\"attributes\":{\"formatter\":{\"id\":\"1571\"},\"ticker\":{\"id\":\"1535\"}},\"id\":\"1534\",\"type\":\"LinearAxis\"}],\"root_ids\":[\"1522\"]},\"title\":\"Bokeh Application\",\"version\":\"2.1.1\"}};\n",
              "  var render_items = [{\"docid\":\"8e3052ba-c733-446e-a795-40efb8feef78\",\"root_ids\":[\"1522\"],\"roots\":{\"1522\":\"d4a89220-146a-4868-9f29-8d7f899928c0\"}}];\n",
              "  root.Bokeh.embed.embed_items_notebook(docs_json, render_items);\n",
              "\n",
              "  }\n",
              "  if (root.Bokeh !== undefined) {\n",
              "    embed_document(root);\n",
              "  } else {\n",
              "    var attempts = 0;\n",
              "    var timer = setInterval(function(root) {\n",
              "      if (root.Bokeh !== undefined) {\n",
              "        clearInterval(timer);\n",
              "        embed_document(root);\n",
              "      } else {\n",
              "        attempts++;\n",
              "        if (attempts > 100) {\n",
              "          clearInterval(timer);\n",
              "          console.log(\"Bokeh: ERROR: Unable to run BokehJS code because BokehJS library is missing\");\n",
              "        }\n",
              "      }\n",
              "    }, 10, root)\n",
              "  }\n",
              "})(window);"
            ],
            "application/vnd.bokehjs_exec.v0+json": ""
          },
          "metadata": {
            "tags": [],
            "application/vnd.bokehjs_exec.v0+json": {
              "id": "1522"
            }
          }
        }
      ]
    },
    {
      "cell_type": "code",
      "metadata": {
        "id": "9Xs7DCgFplxq"
      },
      "source": [
        "# import libraries for descriptive statistics\r\n",
        "import numpy as np\r\n",
        "from scipy import stats"
      ],
      "execution_count": 31,
      "outputs": []
    },
    {
      "cell_type": "code",
      "metadata": {
        "id": "UWZ2mdpLqCyb"
      },
      "source": [
        "# find the mean and standard deviation of the entire dataset\r\n",
        "data_tweet = np.array(tweetcount)\r\n",
        "m = np.average(data_tweet)\r\n",
        "sd= np.std(data_tweet)"
      ],
      "execution_count": 32,
      "outputs": []
    },
    {
      "cell_type": "code",
      "metadata": {
        "colab": {
          "base_uri": "https://localhost:8080/",
          "height": 0
        },
        "id": "baV2qvJaqf1t",
        "outputId": "18c7a2a8-4668-4dd9-b1ec-e1ed2cbbc591"
      },
      "source": [
        "#there is no need to normalize data as we are only using one variable\r\n",
        "print(m)\r\n",
        "print(sd) # print the mean and standard deviation"
      ],
      "execution_count": 33,
      "outputs": [
        {
          "output_type": "stream",
          "text": [
            "68.0078125\n",
            "91.58692047156539\n"
          ],
          "name": "stdout"
        }
      ]
    },
    {
      "cell_type": "code",
      "metadata": {
        "id": "gsG4XttVrIB1"
      },
      "source": [
        "# population mean assumed to be the highest value; 513 tweets\r\n",
        "pop_mean = 513"
      ],
      "execution_count": 34,
      "outputs": []
    },
    {
      "cell_type": "code",
      "metadata": {
        "id": "pDj6aRypF0v4"
      },
      "source": [
        "t, p = stats.ttest_1samp(data_tweet, pop_mean, axis=0) # calcualte t and p values"
      ],
      "execution_count": 35,
      "outputs": []
    },
    {
      "cell_type": "code",
      "metadata": {
        "colab": {
          "base_uri": "https://localhost:8080/",
          "height": 35
        },
        "id": "xU1YKmEOGDUM",
        "outputId": "6dd108d4-ea5e-4bcc-8cce-5d86c831f97a"
      },
      "source": [
        "f'p-value: {p}' # print p-value"
      ],
      "execution_count": 36,
      "outputs": [
        {
          "output_type": "execute_result",
          "data": {
            "application/vnd.google.colaboratory.intrinsic+json": {
              "type": "string"
            },
            "text/plain": [
              "'p-value: 2.226183488192623e-179'"
            ]
          },
          "metadata": {
            "tags": []
          },
          "execution_count": 36
        }
      ]
    },
    {
      "cell_type": "code",
      "metadata": {
        "colab": {
          "base_uri": "https://localhost:8080/",
          "height": 35
        },
        "id": "wYSj2JQ_GFc7",
        "outputId": "a3caa83d-c3d4-4bb5-a23c-14e87d4bd7da"
      },
      "source": [
        "f't statistic: {t}' # print t-value -- note t-value is absolute value of this statistic"
      ],
      "execution_count": 37,
      "outputs": [
        {
          "output_type": "execute_result",
          "data": {
            "application/vnd.google.colaboratory.intrinsic+json": {
              "type": "string"
            },
            "text/plain": [
              "'t statistic: -77.58701079674799'"
            ]
          },
          "metadata": {
            "tags": []
          },
          "execution_count": 37
        }
      ]
    },
    {
      "cell_type": "code",
      "metadata": {
        "colab": {
          "base_uri": "https://localhost:8080/",
          "height": 0
        },
        "id": "luEWUTEra0Ld",
        "outputId": "93580867-5bf2-4312-f32e-9b44751a6e25"
      },
      "source": [
        "# Repeat the process for the day with the 2nd most tweets\r\n",
        "pop_mean2 = 451\r\n",
        "t, p = stats.ttest_1samp(data_tweet, pop_mean2, axis=0)\r\n",
        "print(t,p)"
      ],
      "execution_count": 38,
      "outputs": [
        {
          "output_type": "stream",
          "text": [
            "-66.77694535172627 1.5312305245090675e-163\n"
          ],
          "name": "stdout"
        }
      ]
    },
    {
      "cell_type": "code",
      "metadata": {
        "colab": {
          "base_uri": "https://localhost:8080/",
          "height": 0
        },
        "id": "UrjFxEC-a8ZN",
        "outputId": "9899d8c9-4dcf-48d4-e762-dd3b04168467"
      },
      "source": [
        "# Repeat the process for the day with the 3rd most tweets\r\n",
        "pop_mean3 = 408\r\n",
        "t, p = stats.ttest_1samp(data_tweet, pop_mean3, axis=0)\r\n",
        "print(t,p)"
      ],
      "execution_count": 39,
      "outputs": [
        {
          "output_type": "stream",
          "text": [
            "-59.27964189792088 3.777968111194877e-151\n"
          ],
          "name": "stdout"
        }
      ]
    },
    {
      "cell_type": "code",
      "metadata": {
        "colab": {
          "base_uri": "https://localhost:8080/",
          "height": 0
        },
        "id": "jh6uPJifbIDS",
        "outputId": "91575e8a-79d5-42e2-890b-c9e9cf05354d"
      },
      "source": [
        "# Repeat the process for the day with the 4th most tweets\r\n",
        "pop_mean4 = 389\r\n",
        "t, p = stats.ttest_1samp(data_tweet, pop_mean4, axis=0)\r\n",
        "print(t,p)"
      ],
      "execution_count": 40,
      "outputs": [
        {
          "output_type": "stream",
          "text": [
            "-55.966879906704555 3.110065741897908e-145\n"
          ],
          "name": "stdout"
        }
      ]
    },
    {
      "cell_type": "code",
      "metadata": {
        "colab": {
          "base_uri": "https://localhost:8080/",
          "height": 0
        },
        "id": "sLS43b68bM_2",
        "outputId": "b799a884-8fa9-4647-a816-0ba9eaf2c770"
      },
      "source": [
        "# Repeat the process for the day with the 5th most tweets\r\n",
        "pop_mean5 = 376\r\n",
        "t, p = stats.ttest_1samp(data_tweet, pop_mean5, axis=0)\r\n",
        "print(t,p)"
      ],
      "execution_count": 41,
      "outputs": [
        {
          "output_type": "stream",
          "text": [
            "-53.70025328113548 5.1815981596259536e-141\n"
          ],
          "name": "stdout"
        }
      ]
    },
    {
      "cell_type": "code",
      "metadata": {
        "id": "kNwJNG1qF-qH"
      },
      "source": [
        "# If alpha equals .05, then we reject the null hypothesis. All p-values\r\n",
        "# are less than .05. Also, all t-values are greater than tcrit* (2.25), so\r\n",
        "# we reject the null hypothesis."
      ],
      "execution_count": 42,
      "outputs": []
    },
    {
      "cell_type": "code",
      "metadata": {
        "colab": {
          "base_uri": "https://localhost:8080/",
          "height": 0
        },
        "id": "aRTnABQeOeRO",
        "outputId": "5052d874-5cb4-42a2-a151-b24c6376e1ce"
      },
      "source": [
        "# Create a dataframe containing only those tweets beloning to _IshfaqAhmad\r\n",
        "ActiveTweeter = Tweets[Tweets['username'] == \"_IshfaqAhmad\"]\r\n",
        "ActiveTweeter.head()\r\n",
        "ActiveTweeter.shape[0] # how many entries in the dataframe, or how many times _IshfaqAhmad tweeted overall"
      ],
      "execution_count": 43,
      "outputs": [
        {
          "output_type": "execute_result",
          "data": {
            "text/plain": [
              "709"
            ]
          },
          "metadata": {
            "tags": []
          },
          "execution_count": 43
        }
      ]
    },
    {
      "cell_type": "code",
      "metadata": {
        "colab": {
          "base_uri": "https://localhost:8080/",
          "height": 0
        },
        "id": "X6-4j_yMOqpL",
        "outputId": "2c2a457e-4d09-43e1-d61d-1a67b81237e6"
      },
      "source": [
        "# Create dataframe of _IshfaqAhmad's tweets from only 1/31/2016\r\n",
        "ActiveTweeter = ActiveTweeter[(ActiveTweeter['time'] > '1/31/2016 00:00') & (ActiveTweeter['time'] < '2/1/2016 00:00')]\r\n",
        "ActiveTweeter.head()\r\n",
        "ActiveTweeter.tail()\r\n",
        "ActiveTweeter.shape[0] # how many tweets he had on this day"
      ],
      "execution_count": 44,
      "outputs": [
        {
          "output_type": "execute_result",
          "data": {
            "text/plain": [
              "98"
            ]
          },
          "metadata": {
            "tags": []
          },
          "execution_count": 44
        }
      ]
    },
    {
      "cell_type": "code",
      "metadata": {
        "colab": {
          "base_uri": "https://localhost:8080/",
          "height": 0
        },
        "id": "ePvWDtoSQiNc",
        "outputId": "4435e4d6-5cc5-4c61-ff68-21f34bee3eac"
      },
      "source": [
        "ActiveTweeter['tweets'] #displays the content of tweets on 1/31/2016"
      ],
      "execution_count": 45,
      "outputs": [
        {
          "output_type": "execute_result",
          "data": {
            "text/plain": [
              "2104                                    Game On. Come On!\n",
              "2105         @espncricinfo Ellyse Perry you beauty! :D :P\n",
              "2106    RT @ESPNcricinfo: Ellyse Perry's all-round sho...\n",
              "2107    Once Wahab had to defend 15 of last 3 against ...\n",
              "2108    Loooooooool thats why I would never trust Waha...\n",
              "                              ...                        \n",
              "2470    RT @ahmadmusajibril: When the west say {he's m...\n",
              "2471    RT @kesisygegum: Saddening 2 hear that Assad &...\n",
              "2472    RT @AssetSourceApp: Hours after deadly attack ...\n",
              "2473    RT @KenRoth: Yes, but only Russia and Iran can...\n",
              "2474                         RT session over. Good Night.\n",
              "Name: tweets, Length: 98, dtype: object"
            ]
          },
          "metadata": {
            "tags": []
          },
          "execution_count": 45
        }
      ]
    },
    {
      "cell_type": "code",
      "metadata": {
        "colab": {
          "base_uri": "https://localhost:8080/",
          "height": 0
        },
        "id": "Ac9HPGreRclm",
        "outputId": "7393f9df-a895-4da9-e007-474293dd5782"
      },
      "source": [
        "ActiveTweeter['tweets'].str.lower().str.split() # splits all tweets by word"
      ],
      "execution_count": 46,
      "outputs": [
        {
          "output_type": "execute_result",
          "data": {
            "text/plain": [
              "2104                               [game, on., come, on!]\n",
              "2105    [@espncricinfo, ellyse, perry, you, beauty!, :...\n",
              "2106    [rt, @espncricinfo:, ellyse, perry's, all-roun...\n",
              "2107    [once, wahab, had, to, defend, 15, of, last, 3...\n",
              "2108    [loooooooool, thats, why, i, would, never, tru...\n",
              "                              ...                        \n",
              "2470    [rt, @ahmadmusajibril:, when, the, west, say, ...\n",
              "2471    [rt, @kesisygegum:, saddening, 2, hear, that, ...\n",
              "2472    [rt, @assetsourceapp:, hours, after, deadly, a...\n",
              "2473    [rt, @kenroth:, yes,, but, only, russia, and, ...\n",
              "2474                   [rt, session, over., good, night.]\n",
              "Name: tweets, Length: 98, dtype: object"
            ]
          },
          "metadata": {
            "tags": []
          },
          "execution_count": 46
        }
      ]
    },
    {
      "cell_type": "code",
      "metadata": {
        "colab": {
          "base_uri": "https://localhost:8080/",
          "height": 0
        },
        "id": "P1t76TSWSJfb",
        "outputId": "6887abe5-1aac-46d3-9ce6-f4386a2ee5e2"
      },
      "source": [
        "# Create a set of all the words contained in _IshfaqAhmad's tweets\r\n",
        "#code adapted from stack overflow https://stackoverflow.com/questions/18936957/count-distinct-words-from-a-pandas-data-frame\r\n",
        "results = set()\r\n",
        "ActiveTweeter['tweets'].str.lower().str.split().apply(results.update) \r\n",
        "print(results)"
      ],
      "execution_count": 47,
      "outputs": [
        {
          "output_type": "stream",
          "text": [
            "{'century.', 'prophet,', 'selectors', '5', 'it,', 'wahab!', 'dollars', '@strawberriiiiiy:', \"couldn't\", 'or', 'how', 'o', '#ausvind', 'sects,', 'of', 'given', 'ramadi,', \"syria's\", 'all', 'recent', 'shrine:', 'https://t.co/yhzqxwa5za', 'neighbourhood', '@jazrawi_cuscous', 'htt…', '54)]', 'latika.', '113)]', 'pressure,', 'https://t.co/vnfnww7ixp', 'women', 'past.', 'like', 'howlers,', 'needed', 'previously', '#deirezzor.', 'malik', 'innovated', 'deserved', 'mocking', 'sacred', 'speaking', 'ruined,', '@deirezzor24:', 'batting', 'i’tiqaad', 'shuan', 'al-', '@wwos9', 'adultery', 'misguidance.”', 'kane', 'australia', 'make', 'affair', 'mom,', 'hear', 'good', 'besieged,', '😢', 'million', 'many,', 'aid', \"it's\", 'islaam;', 'dozens', 'any', 'fallujah', 'appear.”', 'template', '(no.', 'another', '@afp:', 'already', 'might', 'atleast', 'wc', '@assetsourceapp:', '@meanfellow90', 'chinese', \"hasn't\", 'kohli', '@noutankibaaz', 'perry', 'rises', 'criminalizing', 'billions', \"doesn't.\", 'vetto', 'islamic', 'choked', 'similar', 'too', 'campaign', 'that,', 'used', 'russian', 'deadly', '@khilafarashida:', 'muhammad', 'bar…', '@mazherarshad:', 'adapt', '&amp;', '30:', '@lion_faisal:', 'new', 'lol', 'easy', 'no,', 'authentic', 'explosions', 'gather', '@assimalhakeem', 'shia', '[241h]', 't20i', 'failed', '#ramadi', 'over,', 'deny', 'help!', 'travelling', 'same', 'amla', ':p', 'today.', 'bol', 'shaykh', 'ittibaa', 'can', 'support', '278)]', 'saheeh', 'sent', 'attack', 'v', 'had', 'among', 'when', 'bombs,', '(the', 'at', 'power', 'joe', '[reported', 'great', 'https:/…', 'during', 'ones', 'usman', 'repeat', 'about', 'guarantee,', 'cow', 'member', 'gas', 'being)', 'hope', 'starving', 'know', 'indian', 'tait', 'children', 'ukraine', \"don't\", '#deirezzur', 'https://t.co/adc47eg2rt', 'hit', 'be', 'series', 'knew', 'pressure', 'regime', \"aren't\", 'gave', 'letter', 'repeated,', 'scoring', 'answers', 'root', 'session', 'if', 'soldiers.', 'reports', 'gratitude', 'grieve,', 'never!', 'city', 'sun', 'saddening', 'accusation', 'india', 'passed', 'effort', 'wasted', 'batsmen', 'invasion', '50', 'bombs', 'diseases', '7000', 'loooooooool', 'disappointed', 'reyaz', 'province', 'attacking', '3/3', '8,000', 'haha', 'record', 'he', 'azam', 'shariah', 'aussie', 'very', 'being', 'a', 'from', 'situation', 'democracy', 'noble', 'over', 'khaithamah', 'out', 'on.', 'lives', 'scg', 'four', 'right', 'perpetrate', 'win.', 'politics.', '3-2.', 'crimes', 'usa', 'there', 'holy', 'than', 'monitor', 'al', 'what', 'diyala', 'wanted', 'so', 'ball.', 'been', 'beauty!', '–', 'down', 'now', 'multiples', '‘anhu)', '#syria…', 'better', 'babar', '20-over', 'to', 'dhoni', 'indians', 'opponent', '“i', 'reported', 'steven', 'defend', 'on', 'yunhi', 'watson', 'needs', 'an', 'sunnah', 'blasts', 'khwaja', 'was', 'https://t.c…', 'iran', '#syria', '#isis', 'guptil', 'near', \"finch's\", '30,', 'leading', 'ppl', 'record.', 'massacred,', 'full', 'run', 'i', 'khawaarij.”', 'famine', 'australian', 'into', '6s', 'all-round', 'condemnations.', '[kitaab', '‘abd', 'his', 'break', '“when', 'liking', 'evidence.', 'grass', 'those', 'still', 'last', \"kohli's\", 'with', '@espncricinfo:', 'started,', 'correct', \"wal-jama'ah\", '7,000', 'mubaarak', 'shit', 'account,', 'against', '#deirezzor', 'formats', 'wahhaab', 't20s', ':d', 'its', '@kenroth:', 'found', 'surely', '@almunajjid_en', 'tried', 'time.', 'runs', 'place', 'our', 'remembrance.', 'unknown', 'mosul', '26', 'https://t.…', 'win', 'th', 'shiite', 'matches', 'tie', 'other', 'let', 'show', 'rafidha', 'hahaha', 'hypocrites', 'them', 'civilian', 'publicly', 'smith', 'pak', 'boundary.', 'shrine', 'average', 'just', 'it', 'islam', 'massacres', 'fighting.', 'zai]', 'zubair', 'https://t.co/a5i1m1qh18', 'worst', 'caliphate?', 'rescue', 'helos', '@nidalgazaui:', 'innovation', '4!', 'suooorter', 'helping', 'syria.', 'c…', 'position', 'no.50', 'night.', 'crying', 'bat', 'root,', 'tie.', 'means', 'them.', 'would', 'rt', '11', 'my', 'i…', 'condolences.', 'took', 'submitting', 'tajikistan', '@paradoxy13:', 'iraqi', 'recaptured', '(d.181h)', 'food,', 'in', \"ain't\", 'dots', 'calculating', \"he's\", 'makes', 'turn', 'staunch', 'killed', 'previous', 'assad', 'caliphate', 'wahab', 'ottoman', 'virat', 'face.', '2013.', 'williamson,', 'https://t.co/yfgbddhf8w', 'six,', 'army', 'rockets', 'cricket', 'talks', 'most', '2.', 'holes', 'kohli?', 'consider', 'say', 'syrian', \"raji'un\", 'yes,', 'aqidah', '87', 'this', 'kohli.', 'without', 'eyes', 'murji’ah,', '“the', 'nz', 'remember,', 'brothers', 'rebel', 'over.', 'sends', 'drowning', 'usool', 'https…', '@kesisygegum:', 'plus', 'controll', '3', 'innovate,', 'ease?', \"perry's\", 'concede', 'could', 'even', '“follow', 'media', '.', \"they'll\", 'ahmad', 'sufficient', 'life', \"doesn't\", 'taking', 'allaah,', 'won', '2/2', 'imam', 'that', 'only', 'ellyse', 'coming', 'fires', 'once', 'were', 'rashidiya', '300k', \"can't\", 'west', 'wa', 'one!', 'as', 'hadith', 'yrs', 'tatars', 'the', '1st', 'innings', 'russia', 'claims', 'hours', 'behind', '#breaking:', 'shee’ah', 'barrel', 'fools', 'widespread,', '50.', 'lesser', 'should', 'for', 'posts', 'inna', \"{he's\", 'gains', '@salafiri_com', \"i'm\", 'tour', 'ibaanatul-kubraa', 'explanation', 'massacre', 'mas’ood', 'have', 'done!', 't20', 'district', \"he's,\", '@almunajjid_en:', 'score', 'one', '…', 'east', 'human', 'fails', 'soldiers', 'seventy', 'days', 'narrations).”', 'form.', 'tye', 'threatening', ':', 'day', '@qassamimarwan:', 'battah', 'highest', 'strikes.', 'century', 'we', 'comply', 'england', 'ramadi', '100s', 'kill', 'do', 'odi', 'vs', 'big', 'moderate}', 'matches,', 'since', 'swear.', 'close', '@the_global_kmr', 'inside', 'score,', 'breaking', 'they', 'plan.', '52', 'qadariyyah,', 'duty.', 'intls,', 'worse!', 'intensifies', '(following', 'madaya:', 'go', 'land', 'play', 'today,', 'kicked', 'alliance', 'thought', 'two', 'bye.', 'https://t.co/utcu84yg…', 'separatist', 'are', 'time,', 'shane', 't20s,', 'rahimahullaah', 'these', 'syria', 'yuvraj', 'peace', 'out)', 'https://t.co/5ob1m9nonj', 'more', 'manhoos', 'fasting', '30', '1', 'iraq', 'buildings', 'via', 'second', 'nearly', '#moadamia', 'https://t.co/…', 'because', 'supported', 'swine-flu', 'al-ilm', 'afford', 'ibn', 'your', 'warner', '100', 'chlorine', 'became', 'not', 'straight.', '60', 'state', '@angry_hassan', 'it.\"', 'slavery', 'watch', 'hundred.', '@loveshaykhahmad', 'days.panic', '(124', 'bin', '@scholarsofhaq75:', 'refugee', 'many', 'abdulmejid', 'has', 'spread.', '15', 'by', 'fallujah,', 'him', 'verge', '–:–', 'benefit', 'supports', 'captured', 'city,', 'why', '#breaking', 'bro,', 'position,', 'and', 'group', '[sharh', 'rewarded', 'eight', 'https://t.co/ne4if8hkv2', '@espncricinfo', 'suffocation', 'miserable', 'watul,', 'said,', 'watto', '156', 'awfully.', 'shias', 'politics,', 'camp', '@ajenglish:', \"didn't\", 'irish', 'thats', 'prevents', 'chase', 'south', '#gunsnroses', '@ahmadmusajibril:', 'yeah', 'sects', 'will', 'abu', 'statements.', 'conceded', '\"we', 'ali', 'never', '2', 'things', 'trust', '@51allout:', 'which', 'match,', '@burhan__shah01', 'sweep', 'muwatta', 'scholar', 'such', 'slapped', 'drs,', 'after', 'tributes.', '@alwala_bara:', 'swing.', 'comeback', 'rift', 'planes', '#nzvpak', 'aaron', '#damascus', 'hv', 'central', 'dead', '370', 'guess', 'https://t.co/m4ktgjiitz', 'abdullah', 'comrades', 'supposed', 'then', 'no.', '@2ibn_nor2', 'whilst', 'pressing', 'weapon', 'ireland,', 'caliph', '1847', 'record,', 'cheering', 'no', 'clean', 'ahlus', 'battle', 'game', 'well', 'boil', 'proof,', '(radiallaahu', 'mankind', 'come', 'toll', 'men', 'several', '-', 'kashmir.', 'their', 'lost', 'puppet.', '@xxvvvxxxxxxxx:', 'off,', 'dropped', 'start', 'considered', 'well,', 'shaikh', 'far', '1/2', 'did', 'is', 'hanbal', 'breaking:', '@cricprof:', 'every', 'says', 'judge', 'becomes', '+', 'reyaz.', 'you', 'but', 'eat', 'ilayhi', 'pakistan', 'invaders…', 'batted', 'beware!', 'geniouses', 'desperate', 'send', 'players', 'diya,', 'shaun', 'wi', 'definitely', 'quickest', '45.83,', 'muslims', 'on!', 'assadists', 'them?', 'today', 'scored', 'watto!', '#deirezzor24', 'meat.', 'seals'}\n"
          ],
          "name": "stdout"
        }
      ]
    },
    {
      "cell_type": "code",
      "metadata": {
        "colab": {
          "base_uri": "https://localhost:8080/",
          "height": 0
        },
        "id": "sVIPPQ9RSUHY",
        "outputId": "731de19e-146f-41b0-b952-479fd8544bea"
      },
      "source": [
        "# Create a counter to count the instances of each word\r\n",
        "from collections import Counter\r\n",
        "results = Counter()\r\n",
        "ActiveTweeter['tweets'].str.lower().str.split().apply(results.update)\r\n",
        "print(results)"
      ],
      "execution_count": 48,
      "outputs": [
        {
          "output_type": "stream",
          "text": [
            "Counter({'the': 37, 'and': 30, 'to': 30, 'rt': 29, 'in': 29, 'of': 24, 'is': 18, 'a': 16, 'for': 13, 'he': 10, 'you': 9, 'i': 8, 'are': 8, '2': 7, 'score': 7, '&amp;': 7, 'have': 7, 'but': 7, 'his': 7, 'him': 7, 'wahab': 6, 'was': 6, 'not': 6, 'with': 6, 'when': 6, 'that': 6, 'kohli': 6, 'this': 6, 'it': 5, 'their': 5, 'from': 5, \"don't\": 5, \"he's\": 5, '#ausvind': 5, 'two': 5, 'yuvraj': 5, '@angry_hassan': 5, 'ibn': 5, 'four': 4, 'would': 4, 'were': 4, 'has': 4, 'assad': 4, 'syria': 4, 'because': 4, '@burhan__shah01': 4, '@almunajjid_en': 4, 'many': 4, '50': 4, 'shrine': 4, '–': 4, 'by': 4, '@almunajjid_en:': 4, 'women': 3, 'an': 3, 'india': 3, 'had': 3, 'against': 3, 'should': 3, 'make': 3, 'men': 3, 'be': 3, 'yeah': 3, 'indian': 3, '1st': 3, 'what': 3, '…': 3, 'state': 3, 'after': 3, '@noutankibaaz': 3, '@afp:': 3, 'near': 3, '#syria': 3, 'about': 3, 'russian': 3, 'than': 3, 'only': 3, 'dhoni': 3, 'send': 3, 'said,': 3, 'sects': 3, '(no.': 3, '#isis': 3, 'new': 3, 'they': 3, '@kesisygegum:': 3, 'come': 2, 'ellyse': 2, 'beauty!': 2, 'win': 2, 'australia': 2, 'at': 2, 'last': 2, '3': 2, '#nzvpak': 2, 'loooooooool': 2, 'why': 2, 'then': 2, 'great': 2, 'aussie': 2, 'series': 2, 'supposed': 2, 'nz': 2, 'won': 2, 'pakistan': 2, 'well': 2, 'so': 2, \"didn't\": 2, 'match,': 2, 'over': 2, 'could': 2, 'been': 2, 'kane': 2, 'williamson,': 2, 'scored': 2, 'babar': 2, 'azam': 2, 'most': 2, 'definitely': 2, 'will': 2, 'as': 2, 'average': 2, 'second': 2, 'highest': 2, 'i…': 2, '@meanfellow90': 2, 'iran': 2, 'muslims': 2, 'iraq': 2, 'did': 2, 'fails': 2, 'islam': 2, 'close': 2, 'your': 2, 'days': 2, 'we': 2, 'eat': 2, 'lol': 2, 'tait': 2, 'full': 2, 'if': 2, 'army': 2, 'rashidiya': 2, 'scoring': 2, 'like': 2, 'these': 2, '#breaking:': 2, 'dead': 2, 'blasts': 2, 'shiite': 2, 'reports': 2, 'among': 2, 'quickest': 2, 'runs': 2, 'record': 2, 'amla': 2, 'more': 2, 'ottoman': 2, 'play': 2, 'let': 2, 'no': 2, 'pressure': 2, 'yrs': 2, 'abdullah': 2, 'mubaarak': 2, 'rahimahullaah': 2, 'seventy': 2, '[sharh': 2, 'which': 2, 'imam': 2, 'via': 2, '@salafiri_com': 2, 'coming': 2, 'kicked': 2, 'out': 2, 'dropped': 2, 'city,': 2, 'https…': 2, 'mosul': 2, 'very': 2, '1/2': 2, 'tatars': 2, 'o': 2, 'allaah,': 2, 'on': 2, 'killed': 2, 'regime': 2, 'inna': 2, 'ilayhi': 2, '#breaking': 2, 'game': 1, 'on.': 1, 'on!': 1, '@espncricinfo': 1, 'perry': 1, ':d': 1, ':p': 1, '@espncricinfo:': 1, \"perry's\": 1, 'all-round': 1, 'show': 1, 'seals': 1, 'scg': 1, 'prevents': 1, 'clean': 1, 'sweep': 1, 'https://t.co/…': 1, 'once': 1, 'defend': 1, '15': 1, 'wi': 1, 'no.': 1, '11': 1, 'conceded': 1, 'six,': 1, 'tie.': 1, 'thats': 1, 'never': 1, 'trust': 1, 'reyaz.': 1, '1': 1, 'concede': 1, '4!': 1, \"they'll\": 1, 'run': 1, 'bye.': 1, 'beware!': 1, 'effort': 1, 'wahab!': 1, 'choked': 1, 'plan.': 1, 'template': 1, 'win.': 1, 'odi': 1, '5': 1, 'matches,': 1, '2.': 1, '3-2.': 1, 'done!': 1, '@the_global_kmr': 1, 'desperate': 1, 'slavery': 1, 'watch': 1, 'swear.': 1, 'pak': 1, 'atleast': 1, '370': 1, '30': 1, 'position,': 1, 'still': 1, 'chase': 1, 'it,': 1, 'grieve,': 1, 'worse!': 1, \"i'm\": 1, 'disappointed': 1, 'hundred.': 1, 'too': 1, 'deserved': 1, 'one!': 1, 'things': 1, 'life': 1, 'guarantee,': 1, 'reyaz': 1, \"doesn't.\": 1, '@2ibn_nor2': 1, 'guptil': 1, 'mom,': 1, 'thought': 1, 'straight.': 1, 'correct': 1, 'howlers,': 1, 'drs,': 1, 'geniouses': 1, 'leading': 1, 'wasted': 1, 'awfully.': 1, '@mazherarshad:': 1, 'selectors': 1, 'consider': 1, 't20s': 1, 'well,': 1, '20-over': 1, 'cricket': 1, '45.83,': 1, '@lion_faisal:': 1, 'usa': 1, 'rewarded': 1, '100': 1, 'billions': 1, 'dollars': 1, 'helping': 1, 'kill': 1, 'nearly': 1, 'million': 1, 't20s,': 1, 'repeated,': 1, 'now': 1, 'turn': 1, 'australian': 1, 'repeat': 1, 'breaking': 1, ':': 1, 'usman': 1, 'khwaja': 1, 'century.': 1, '@assimalhakeem': 1, '@cricprof:': 1, 'shane': 1, 'watson': 1, '(124': 1, 'out)': 1, 'hit': 1, 't20i': 1, 'score,': 1, 'behind': 1, 'aaron': 1, \"finch's\": 1, '156': 1, 'v': 1, 'england': 1, '2013.': 1, '@wwos9': 1, 'tajikistan': 1, 'intensifies': 1, 'its': 1, 'campaign': 1, 'criminalizing': 1, 'https://t.co/vnfnww7ixp': 1, '@loveshaykhahmad': 1, 'account,': 1, 'benefit': 1, 'posts': 1, '@ajenglish:': 1, 'inside': 1, \"syria's\": 1, 'madaya:': 1, '\"we': 1, 'go': 1, 'without': 1, 'food,': 1, 'gather': 1, 'grass': 1, 'just': 1, 'boil': 1, 'it.\"': 1, 'https://t.…': 1, '@scholarsofhaq75:': 1, '“when': 1, 'adultery': 1, 'becomes': 1, 'widespread,': 1, 'diseases': 1, 'previously': 1, 'unknown': 1, 'mankind': 1, 'appear.”': 1, 'prophet,': 1, 'saheeh': 1, '.': 1, 'shaun': 1, 'form.': 1, 'watto!': 1, 'watto': 1, 'vetto': 1, 'power': 1, 'today.': 1, 'ball.': 1, '@51allout:': 1, 'shuan': 1, 'worst': 1, 'comeback': 1, 'since': 1, 'chinese': 1, 'democracy': 1, '#gunsnroses': 1, 'start': 1, 'liking': 1, 'kohli?': 1, '@qassamimarwan:': 1, 'breaking:': 1, 'islamic': 1, 'group': 1, 'captured': 1, 'district': 1, '#deirezzur': 1, 'city': 1, 'fighting.': 1, '#syria…': 1, 'never!': 1, 'caliphate': 1, 'eyes': 1, 'holy': 1, 'land': 1, 'https://t.co/yhzqxwa5za': 1, 'shit': 1, 'watul,': 1, 'sun': 1, 'virat': 1, 'boundary.': 1, 'haha': 1, \"he's,\": 1, 'yunhi': 1, 'bol': 1, 'diya,': 1, 'indians': 1, 'such': 1, 'ease?': 1, 'cow': 1, 'meat.': 1, 'eight': 1, 'shrine:': 1, 'monitor': 1, '@xxvvvxxxxxxxx:': 1, 'soldiers': 1, 'ukraine': 1, 'swine-flu': 1, 'recent': 1, 'days.panic': 1, 'invaders…': 1, 'tour': 1, 'started,': 1, 'knew': 1, '7,000': 1, 'calculating': 1, 'how': 1, 'deny': 1, 'record.': 1, 'manhoos': 1, 'threatening': 1, '8,000': 1, 'record,': 1, 'century': 1, 'even': 1, 't20': 1, 'passed': 1, '50.': 1, 'needs': 1, '26': 1, 'break': 1, \"kohli's\": 1, '7000': 1, 'position': 1, '100s': 1, 'lesser': 1, 'innings': 1, 'my': 1, 'weapon': 1, 'hope': 1, 'kohli.': 1, 'plus': 1, 'joe': 1, 'root,': 1, 'steven': 1, 'smith': 1, 'warner': 1, 'better': 1, 'batsmen': 1, 'one': 1, 'or': 1, 'all': 1, 'formats': 1, 'miserable': 1, 'vs': 1, 'swing.': 1, 'toll': 1, 'rises': 1, '30:': 1, 'media': 1, 'tye': 1, 'tie': 1, 'holes': 1, '@khilafarashida:': 1, 'sends': 1, 'aid': 1, 'during': 1, 'irish': 1, 'famine': 1, 'letter': 1, 'gratitude': 1, 'caliph': 1, 'abdulmejid': 1, 'ireland,': 1, '1847': 1, 'https:/…': 1, 'tried': 1, 'politics,': 1, 'bat': 1, 'there': 1, 'pressure,': 1, 'situation': 1, 'time.': 1, 'wanted': 1, 'off,': 1, 'slapped': 1, 'right': 1, 'face.': 1, 'needed': 1, '30,': 1, \"hasn't\": 1, 'batted': 1, 'intls,': 1, \"couldn't\": 1, 'afford': 1, 'dots': 1, '“the': 1, 'root': 1, 'innovated': 1, 'sects,': 1, 'spread.': 1, '(the': 1, 'being)': 1, 'qadariyyah,': 1, 'murji’ah,': 1, 'shee’ah': 1, 'khawaarij.”': 1, '[reported': 1, 'battah': 1, 'ibaanatul-kubraa': 1, '278)]': 1, '@strawberriiiiiy:': 1, 'statements.': 1, 'condolences.': 1, 'condemnations.': 1, 'tributes.': 1, 'remembrance.': 1, 'strikes.': 1, 'separatist': 1, 'politics.': 1, 'kashmir.': 1, '(d.181h)': 1, '“i': 1, 'found': 1, 'affair': 1, 'ittibaa': 1, '(following': 1, 'submitting': 1, 'narrations).”': 1, 'usool': 1, 'i’tiqaad': 1, '113)]': 1, 'mas’ood': 1, '(radiallaahu': 1, '‘anhu)': 1, '“follow': 1, 'do': 1, 'innovate,': 1, 'given': 1, 'sufficient': 1, 'every': 1, 'innovation': 1, 'misguidance.”': 1, '[kitaab': 1, 'al-ilm': 1, 'abu': 1, 'khaithamah': 1, '54)]': 1, 'explanation': 1, 'aqidah': 1, 'ahlus': 1, 'sunnah': 1, \"wal-jama'ah\": 1, '-': 1, 'ahmad': 1, 'bin': 1, 'hanbal': 1, '[241h]': 1, 'https://t.co/m4ktgjiitz': 1, \"ain't\": 1, 'easy': 1, 'bro,': 1, 'know': 1, 'many,': 1, 'rift': 1, 'muwatta': 1, 'malik': 1, 'shaikh': 1, 'zubair': 1, 'ali': 1, 'zai]': 1, 'hadith': 1, 'no.50': 1, '–:–': 1, 'fasting': 1, 'whilst': 1, 'travelling': 1, 'https://t.co/5ob1m9nonj': 1, 'any': 1, 'other': 1, 'day': 1, 'time,': 1, 'failed': 1, 'those': 1, '6s': 1, 'lost': 1, 'might': 1, 'hv': 1, 'wc': 1, '@deirezzor24:': 1, '#deirezzor24': 1, 'makes': 1, 'gains': 1, '#deirezzor': 1, 'planes': 1, 'perpetrate': 1, 'another': 1, 'massacre': 1, 'th': 1, 'province': 1, 'big': 1, 'players': 1, 'no,': 1, 'speaking': 1, 'crimes': 1, 'rafidha': 1, 'fallujah,': 1, 'ramadi,': 1, \"doesn't\": 1, 'suooorter': 1, 'sent': 1, 'previous': 1, 'matches': 1, 'batting': 1, 'already': 1, 'adapt': 1, \"can't\": 1, 'judge': 1, 'that,': 1, 'surely': 1, 'supports': 1, 'shariah': 1, 'staunch': 1, 'opponent': 1, 'shias': 1, 'noble': 1, 'scholar': 1, 'answers': 1, 'considered': 1, 'authentic': 1, 'ones': 1, 'massacres': 1, 'today': 1, 'similar': 1, 'invasion': 1, 'past.': 1, 'https://t.co/adc47eg2rt': 1, '2/2': 1, 'taking': 1, 'place': 1, 'syria.': 1, 'attacking': 1, 'islaam;': 1, 'down': 1, 'help!': 1, 'diyala': 1, 'being': 1, 'massacred,': 1, 'fallujah': 1, 'besieged,': 1, 'ramadi': 1, 'ruined,': 1, 'verge': 1, 'drowning': 1, 'multiples': 1, 'https://t.co/a5i1m1qh18': 1, '3/3': 1, 'rescue': 1, 'our': 1, 'brothers': 1, 'support': 1, 'them.': 1, '@jazrawi_cuscous': 1, 'hahaha': 1, 'battle': 1, '#ramadi': 1, 'far': 1, 'over,': 1, 'recaptured': 1, 'buildings': 1, 'east': 1, 'dozens': 1, 'iraqi': 1, 'soldiers.': 1, '@alwala_bara:': 1, 'fires': 1, '60': 1, '+': 1, 'rockets': 1, 'into': 1, 'refugee': 1, 'camp': 1, 'latika.': 1, 'wa': 1, \"raji'un\": 1, '😢': 1, 'https://t.co/utcu84yg…': 1, '@nidalgazaui:': 1, 'took': 1, 'controll': 1, 'al': 1, 'neighbourhood': 1, '#deirezzor.': 1, 'https://t.co/yfgbddhf8w': 1, 'shaykh': 1, 'muhammad': 1, '‘abd': 1, 'al-': 1, 'wahhaab': 1, 'rebel': 1, 'caliphate?': 1, 'https://t.co/ne4if8hkv2': 1, 'claims': 1, 'supported': 1, 'proof,': 1, 'used': 1, 'fools': 1, 'evidence.': 1, '@paradoxy13:': 1, 'helos': 1, '52': 1, 'bombs': 1, '#moadamia': 1, 'today,': 1, 'several': 1, 'chlorine': 1, 'gas': 1, 'barrel': 1, 'bombs,': 1, '87': 1, 'civilian': 1, 'suffocation': 1, 'c…': 1, 'member': 1, 'says': 1, 'peace': 1, 'talks': 1, 'remember,': 1, 'assadists': 1, 'crying': 1, 'same': 1, 'hypocrites': 1, 'mocking': 1, 'starving': 1, 'children': 1, 'cheering': 1, 'bar…': 1, '@ahmadmusajibril:': 1, 'west': 1, 'say': 1, \"{he's\": 1, 'moderate}': 1, 'means': 1, 'gave': 1, 'them': 1, 'alliance': 1, 'became': 1, 'puppet.': 1, \"it's\": 1, 'accusation': 1, 'saddening': 1, 'hear': 1, 'shia': 1, 'comrades': 1, '300k': 1, 'ppl': 1, 'guess': 1, 'sacred': 1, 'human': 1, 'lives': 1, '@assetsourceapp:': 1, 'hours': 1, 'deadly': 1, 'attack': 1, 'south': 1, 'explosions': 1, 'reported': 1, 'central': 1, '#damascus': 1, 'htt…': 1, '@kenroth:': 1, 'yes,': 1, 'russia': 1, 'can': 1, 'syrian': 1, 'comply': 1, 'duty.': 1, \"aren't\": 1, 'publicly': 1, 'pressing': 1, 'them?': 1, 'https://t.c…': 1, 'session': 1, 'over.': 1, 'good': 1, 'night.': 1})\n"
          ],
          "name": "stdout"
        }
      ]
    },
    {
      "cell_type": "code",
      "metadata": {
        "id": "5uA4gxNLSdkZ"
      },
      "source": [
        "# Uses the bokeh library to plot an interactive graph\r\n",
        "p = figure(x_range = list(results.keys()), plot_width=800, plot_height=1200)\r\n",
        "\r\n",
        "#Plots the data\r\n",
        "p.vbar(x= list(results.keys()), width=0.5, bottom=0,\r\n",
        "       top= list(results.values()), color=\"firebrick\")\r\n",
        "\r\n",
        "p.xaxis.major_label_orientation = math.pi/2  #Rotates the labels on the X axis"
      ],
      "execution_count": 49,
      "outputs": []
    },
    {
      "cell_type": "code",
      "metadata": {
        "colab": {
          "base_uri": "https://localhost:8080/",
          "height": 1217
        },
        "id": "3_rQisCUTPKG",
        "outputId": "5dc3e126-e3c1-4875-9c72-d519bfcddf3b"
      },
      "source": [
        "show(p) # displays words in tweets by frequency"
      ],
      "execution_count": 50,
      "outputs": [
        {
          "output_type": "display_data",
          "data": {
            "application/javascript": [
              "\n",
              "(function(root) {\n",
              "  function now() {\n",
              "    return new Date();\n",
              "  }\n",
              "\n",
              "  var force = true;\n",
              "\n",
              "  if (typeof root._bokeh_onload_callbacks === \"undefined\" || force === true) {\n",
              "    root._bokeh_onload_callbacks = [];\n",
              "    root._bokeh_is_loading = undefined;\n",
              "  }\n",
              "\n",
              "  var JS_MIME_TYPE = 'application/javascript';\n",
              "  var HTML_MIME_TYPE = 'text/html';\n",
              "  var EXEC_MIME_TYPE = 'application/vnd.bokehjs_exec.v0+json';\n",
              "  var CLASS_NAME = 'output_bokeh rendered_html';\n",
              "\n",
              "  /**\n",
              "   * Render data to the DOM node\n",
              "   */\n",
              "  function render(props, node) {\n",
              "    var script = document.createElement(\"script\");\n",
              "    node.appendChild(script);\n",
              "  }\n",
              "\n",
              "  /**\n",
              "   * Handle when an output is cleared or removed\n",
              "   */\n",
              "  function handleClearOutput(event, handle) {\n",
              "    var cell = handle.cell;\n",
              "\n",
              "    var id = cell.output_area._bokeh_element_id;\n",
              "    var server_id = cell.output_area._bokeh_server_id;\n",
              "    // Clean up Bokeh references\n",
              "    if (id != null && id in Bokeh.index) {\n",
              "      Bokeh.index[id].model.document.clear();\n",
              "      delete Bokeh.index[id];\n",
              "    }\n",
              "\n",
              "    if (server_id !== undefined) {\n",
              "      // Clean up Bokeh references\n",
              "      var cmd = \"from bokeh.io.state import curstate; print(curstate().uuid_to_server['\" + server_id + \"'].get_sessions()[0].document.roots[0]._id)\";\n",
              "      cell.notebook.kernel.execute(cmd, {\n",
              "        iopub: {\n",
              "          output: function(msg) {\n",
              "            var id = msg.content.text.trim();\n",
              "            if (id in Bokeh.index) {\n",
              "              Bokeh.index[id].model.document.clear();\n",
              "              delete Bokeh.index[id];\n",
              "            }\n",
              "          }\n",
              "        }\n",
              "      });\n",
              "      // Destroy server and session\n",
              "      var cmd = \"import bokeh.io.notebook as ion; ion.destroy_server('\" + server_id + \"')\";\n",
              "      cell.notebook.kernel.execute(cmd);\n",
              "    }\n",
              "  }\n",
              "\n",
              "  /**\n",
              "   * Handle when a new output is added\n",
              "   */\n",
              "  function handleAddOutput(event, handle) {\n",
              "    var output_area = handle.output_area;\n",
              "    var output = handle.output;\n",
              "\n",
              "    // limit handleAddOutput to display_data with EXEC_MIME_TYPE content only\n",
              "    if ((output.output_type != \"display_data\") || (!output.data.hasOwnProperty(EXEC_MIME_TYPE))) {\n",
              "      return\n",
              "    }\n",
              "\n",
              "    var toinsert = output_area.element.find(\".\" + CLASS_NAME.split(' ')[0]);\n",
              "\n",
              "    if (output.metadata[EXEC_MIME_TYPE][\"id\"] !== undefined) {\n",
              "      toinsert[toinsert.length - 1].firstChild.textContent = output.data[JS_MIME_TYPE];\n",
              "      // store reference to embed id on output_area\n",
              "      output_area._bokeh_element_id = output.metadata[EXEC_MIME_TYPE][\"id\"];\n",
              "    }\n",
              "    if (output.metadata[EXEC_MIME_TYPE][\"server_id\"] !== undefined) {\n",
              "      var bk_div = document.createElement(\"div\");\n",
              "      bk_div.innerHTML = output.data[HTML_MIME_TYPE];\n",
              "      var script_attrs = bk_div.children[0].attributes;\n",
              "      for (var i = 0; i < script_attrs.length; i++) {\n",
              "        toinsert[toinsert.length - 1].firstChild.setAttribute(script_attrs[i].name, script_attrs[i].value);\n",
              "        toinsert[toinsert.length - 1].firstChild.textContent = bk_div.children[0].textContent\n",
              "      }\n",
              "      // store reference to server id on output_area\n",
              "      output_area._bokeh_server_id = output.metadata[EXEC_MIME_TYPE][\"server_id\"];\n",
              "    }\n",
              "  }\n",
              "\n",
              "  function register_renderer(events, OutputArea) {\n",
              "\n",
              "    function append_mime(data, metadata, element) {\n",
              "      // create a DOM node to render to\n",
              "      var toinsert = this.create_output_subarea(\n",
              "        metadata,\n",
              "        CLASS_NAME,\n",
              "        EXEC_MIME_TYPE\n",
              "      );\n",
              "      this.keyboard_manager.register_events(toinsert);\n",
              "      // Render to node\n",
              "      var props = {data: data, metadata: metadata[EXEC_MIME_TYPE]};\n",
              "      render(props, toinsert[toinsert.length - 1]);\n",
              "      element.append(toinsert);\n",
              "      return toinsert\n",
              "    }\n",
              "\n",
              "    /* Handle when an output is cleared or removed */\n",
              "    events.on('clear_output.CodeCell', handleClearOutput);\n",
              "    events.on('delete.Cell', handleClearOutput);\n",
              "\n",
              "    /* Handle when a new output is added */\n",
              "    events.on('output_added.OutputArea', handleAddOutput);\n",
              "\n",
              "    /**\n",
              "     * Register the mime type and append_mime function with output_area\n",
              "     */\n",
              "    OutputArea.prototype.register_mime_type(EXEC_MIME_TYPE, append_mime, {\n",
              "      /* Is output safe? */\n",
              "      safe: true,\n",
              "      /* Index of renderer in `output_area.display_order` */\n",
              "      index: 0\n",
              "    });\n",
              "  }\n",
              "\n",
              "  // register the mime type if in Jupyter Notebook environment and previously unregistered\n",
              "  if (root.Jupyter !== undefined) {\n",
              "    var events = require('base/js/events');\n",
              "    var OutputArea = require('notebook/js/outputarea').OutputArea;\n",
              "\n",
              "    if (OutputArea.prototype.mime_types().indexOf(EXEC_MIME_TYPE) == -1) {\n",
              "      register_renderer(events, OutputArea);\n",
              "    }\n",
              "  }\n",
              "\n",
              "  \n",
              "  if (typeof (root._bokeh_timeout) === \"undefined\" || force === true) {\n",
              "    root._bokeh_timeout = Date.now() + 5000;\n",
              "    root._bokeh_failed_load = false;\n",
              "  }\n",
              "\n",
              "  var NB_LOAD_WARNING = {'data': {'text/html':\n",
              "     \"<div style='background-color: #fdd'>\\n\"+\n",
              "     \"<p>\\n\"+\n",
              "     \"BokehJS does not appear to have successfully loaded. If loading BokehJS from CDN, this \\n\"+\n",
              "     \"may be due to a slow or bad network connection. Possible fixes:\\n\"+\n",
              "     \"</p>\\n\"+\n",
              "     \"<ul>\\n\"+\n",
              "     \"<li>re-rerun `output_notebook()` to attempt to load from CDN again, or</li>\\n\"+\n",
              "     \"<li>use INLINE resources instead, as so:</li>\\n\"+\n",
              "     \"</ul>\\n\"+\n",
              "     \"<code>\\n\"+\n",
              "     \"from bokeh.resources import INLINE\\n\"+\n",
              "     \"output_notebook(resources=INLINE)\\n\"+\n",
              "     \"</code>\\n\"+\n",
              "     \"</div>\"}};\n",
              "\n",
              "  function display_loaded() {\n",
              "    var el = document.getElementById(null);\n",
              "    if (el != null) {\n",
              "      el.textContent = \"BokehJS is loading...\";\n",
              "    }\n",
              "    if (root.Bokeh !== undefined) {\n",
              "      if (el != null) {\n",
              "        el.textContent = \"BokehJS \" + root.Bokeh.version + \" successfully loaded.\";\n",
              "      }\n",
              "    } else if (Date.now() < root._bokeh_timeout) {\n",
              "      setTimeout(display_loaded, 100)\n",
              "    }\n",
              "  }\n",
              "\n",
              "\n",
              "  function run_callbacks() {\n",
              "    try {\n",
              "      root._bokeh_onload_callbacks.forEach(function(callback) {\n",
              "        if (callback != null)\n",
              "          callback();\n",
              "      });\n",
              "    } finally {\n",
              "      delete root._bokeh_onload_callbacks\n",
              "    }\n",
              "    console.debug(\"Bokeh: all callbacks have finished\");\n",
              "  }\n",
              "\n",
              "  function load_libs(css_urls, js_urls, callback) {\n",
              "    if (css_urls == null) css_urls = [];\n",
              "    if (js_urls == null) js_urls = [];\n",
              "\n",
              "    root._bokeh_onload_callbacks.push(callback);\n",
              "    if (root._bokeh_is_loading > 0) {\n",
              "      console.debug(\"Bokeh: BokehJS is being loaded, scheduling callback at\", now());\n",
              "      return null;\n",
              "    }\n",
              "    if (js_urls == null || js_urls.length === 0) {\n",
              "      run_callbacks();\n",
              "      return null;\n",
              "    }\n",
              "    console.debug(\"Bokeh: BokehJS not loaded, scheduling load and callback at\", now());\n",
              "    root._bokeh_is_loading = css_urls.length + js_urls.length;\n",
              "\n",
              "    function on_load() {\n",
              "      root._bokeh_is_loading--;\n",
              "      if (root._bokeh_is_loading === 0) {\n",
              "        console.debug(\"Bokeh: all BokehJS libraries/stylesheets loaded\");\n",
              "        run_callbacks()\n",
              "      }\n",
              "    }\n",
              "\n",
              "    function on_error() {\n",
              "      console.error(\"failed to load \" + url);\n",
              "    }\n",
              "\n",
              "    for (var i = 0; i < css_urls.length; i++) {\n",
              "      var url = css_urls[i];\n",
              "      const element = document.createElement(\"link\");\n",
              "      element.onload = on_load;\n",
              "      element.onerror = on_error;\n",
              "      element.rel = \"stylesheet\";\n",
              "      element.type = \"text/css\";\n",
              "      element.href = url;\n",
              "      console.debug(\"Bokeh: injecting link tag for BokehJS stylesheet: \", url);\n",
              "      document.body.appendChild(element);\n",
              "    }\n",
              "\n",
              "    const hashes = {\"https://cdn.bokeh.org/bokeh/release/bokeh-2.1.1.min.js\": \"kLr4fYcqcSpbuI95brIH3vnnYCquzzSxHPU6XGQCIkQRGJwhg0StNbj1eegrHs12\", \"https://cdn.bokeh.org/bokeh/release/bokeh-widgets-2.1.1.min.js\": \"xIGPmVtaOm+z0BqfSOMn4lOR6ciex448GIKG4eE61LsAvmGj48XcMQZtKcE/UXZe\", \"https://cdn.bokeh.org/bokeh/release/bokeh-tables-2.1.1.min.js\": \"Dc9u1wF/0zApGIWoBbH77iWEHtdmkuYWG839Uzmv8y8yBLXebjO9ZnERsde5Ln/P\", \"https://cdn.bokeh.org/bokeh/release/bokeh-gl-2.1.1.min.js\": \"cT9JaBz7GiRXdENrJLZNSC6eMNF3nh3fa5fTF51Svp+ukxPdwcU5kGXGPBgDCa2j\"};\n",
              "\n",
              "    for (var i = 0; i < js_urls.length; i++) {\n",
              "      var url = js_urls[i];\n",
              "      var element = document.createElement('script');\n",
              "      element.onload = on_load;\n",
              "      element.onerror = on_error;\n",
              "      element.async = false;\n",
              "      element.src = url;\n",
              "      if (url in hashes) {\n",
              "        element.crossOrigin = \"anonymous\";\n",
              "        element.integrity = \"sha384-\" + hashes[url];\n",
              "      }\n",
              "      console.debug(\"Bokeh: injecting script tag for BokehJS library: \", url);\n",
              "      document.head.appendChild(element);\n",
              "    }\n",
              "  };\n",
              "\n",
              "  function inject_raw_css(css) {\n",
              "    const element = document.createElement(\"style\");\n",
              "    element.appendChild(document.createTextNode(css));\n",
              "    document.body.appendChild(element);\n",
              "  }\n",
              "\n",
              "  \n",
              "  var js_urls = [\"https://cdn.bokeh.org/bokeh/release/bokeh-2.1.1.min.js\", \"https://cdn.bokeh.org/bokeh/release/bokeh-widgets-2.1.1.min.js\", \"https://cdn.bokeh.org/bokeh/release/bokeh-tables-2.1.1.min.js\", \"https://cdn.bokeh.org/bokeh/release/bokeh-gl-2.1.1.min.js\"];\n",
              "  var css_urls = [];\n",
              "  \n",
              "\n",
              "  var inline_js = [\n",
              "    function(Bokeh) {\n",
              "      Bokeh.set_log_level(\"info\");\n",
              "    },\n",
              "    function(Bokeh) {\n",
              "    \n",
              "    \n",
              "    }\n",
              "  ];\n",
              "\n",
              "  function run_inline_js() {\n",
              "    \n",
              "    if (root.Bokeh !== undefined || force === true) {\n",
              "      \n",
              "    for (var i = 0; i < inline_js.length; i++) {\n",
              "      inline_js[i].call(root, root.Bokeh);\n",
              "    }\n",
              "    } else if (Date.now() < root._bokeh_timeout) {\n",
              "      setTimeout(run_inline_js, 100);\n",
              "    } else if (!root._bokeh_failed_load) {\n",
              "      console.log(\"Bokeh: BokehJS failed to load within specified timeout.\");\n",
              "      root._bokeh_failed_load = true;\n",
              "    } else if (force !== true) {\n",
              "      var cell = $(document.getElementById(null)).parents('.cell').data().cell;\n",
              "      cell.output_area.append_execute_result(NB_LOAD_WARNING)\n",
              "    }\n",
              "\n",
              "  }\n",
              "\n",
              "  if (root._bokeh_is_loading === 0) {\n",
              "    console.debug(\"Bokeh: BokehJS loaded, going straight to plotting\");\n",
              "    run_inline_js();\n",
              "  } else {\n",
              "    load_libs(css_urls, js_urls, function() {\n",
              "      console.debug(\"Bokeh: BokehJS plotting callback run at\", now());\n",
              "      run_inline_js();\n",
              "    });\n",
              "  }\n",
              "}(window));"
            ],
            "application/vnd.bokehjs_load.v0+json": "\n(function(root) {\n  function now() {\n    return new Date();\n  }\n\n  var force = true;\n\n  if (typeof root._bokeh_onload_callbacks === \"undefined\" || force === true) {\n    root._bokeh_onload_callbacks = [];\n    root._bokeh_is_loading = undefined;\n  }\n\n  \n\n  \n  if (typeof (root._bokeh_timeout) === \"undefined\" || force === true) {\n    root._bokeh_timeout = Date.now() + 5000;\n    root._bokeh_failed_load = false;\n  }\n\n  var NB_LOAD_WARNING = {'data': {'text/html':\n     \"<div style='background-color: #fdd'>\\n\"+\n     \"<p>\\n\"+\n     \"BokehJS does not appear to have successfully loaded. If loading BokehJS from CDN, this \\n\"+\n     \"may be due to a slow or bad network connection. Possible fixes:\\n\"+\n     \"</p>\\n\"+\n     \"<ul>\\n\"+\n     \"<li>re-rerun `output_notebook()` to attempt to load from CDN again, or</li>\\n\"+\n     \"<li>use INLINE resources instead, as so:</li>\\n\"+\n     \"</ul>\\n\"+\n     \"<code>\\n\"+\n     \"from bokeh.resources import INLINE\\n\"+\n     \"output_notebook(resources=INLINE)\\n\"+\n     \"</code>\\n\"+\n     \"</div>\"}};\n\n  function display_loaded() {\n    var el = document.getElementById(null);\n    if (el != null) {\n      el.textContent = \"BokehJS is loading...\";\n    }\n    if (root.Bokeh !== undefined) {\n      if (el != null) {\n        el.textContent = \"BokehJS \" + root.Bokeh.version + \" successfully loaded.\";\n      }\n    } else if (Date.now() < root._bokeh_timeout) {\n      setTimeout(display_loaded, 100)\n    }\n  }\n\n\n  function run_callbacks() {\n    try {\n      root._bokeh_onload_callbacks.forEach(function(callback) {\n        if (callback != null)\n          callback();\n      });\n    } finally {\n      delete root._bokeh_onload_callbacks\n    }\n    console.debug(\"Bokeh: all callbacks have finished\");\n  }\n\n  function load_libs(css_urls, js_urls, callback) {\n    if (css_urls == null) css_urls = [];\n    if (js_urls == null) js_urls = [];\n\n    root._bokeh_onload_callbacks.push(callback);\n    if (root._bokeh_is_loading > 0) {\n      console.debug(\"Bokeh: BokehJS is being loaded, scheduling callback at\", now());\n      return null;\n    }\n    if (js_urls == null || js_urls.length === 0) {\n      run_callbacks();\n      return null;\n    }\n    console.debug(\"Bokeh: BokehJS not loaded, scheduling load and callback at\", now());\n    root._bokeh_is_loading = css_urls.length + js_urls.length;\n\n    function on_load() {\n      root._bokeh_is_loading--;\n      if (root._bokeh_is_loading === 0) {\n        console.debug(\"Bokeh: all BokehJS libraries/stylesheets loaded\");\n        run_callbacks()\n      }\n    }\n\n    function on_error() {\n      console.error(\"failed to load \" + url);\n    }\n\n    for (var i = 0; i < css_urls.length; i++) {\n      var url = css_urls[i];\n      const element = document.createElement(\"link\");\n      element.onload = on_load;\n      element.onerror = on_error;\n      element.rel = \"stylesheet\";\n      element.type = \"text/css\";\n      element.href = url;\n      console.debug(\"Bokeh: injecting link tag for BokehJS stylesheet: \", url);\n      document.body.appendChild(element);\n    }\n\n    const hashes = {\"https://cdn.bokeh.org/bokeh/release/bokeh-2.1.1.min.js\": \"kLr4fYcqcSpbuI95brIH3vnnYCquzzSxHPU6XGQCIkQRGJwhg0StNbj1eegrHs12\", \"https://cdn.bokeh.org/bokeh/release/bokeh-widgets-2.1.1.min.js\": \"xIGPmVtaOm+z0BqfSOMn4lOR6ciex448GIKG4eE61LsAvmGj48XcMQZtKcE/UXZe\", \"https://cdn.bokeh.org/bokeh/release/bokeh-tables-2.1.1.min.js\": \"Dc9u1wF/0zApGIWoBbH77iWEHtdmkuYWG839Uzmv8y8yBLXebjO9ZnERsde5Ln/P\", \"https://cdn.bokeh.org/bokeh/release/bokeh-gl-2.1.1.min.js\": \"cT9JaBz7GiRXdENrJLZNSC6eMNF3nh3fa5fTF51Svp+ukxPdwcU5kGXGPBgDCa2j\"};\n\n    for (var i = 0; i < js_urls.length; i++) {\n      var url = js_urls[i];\n      var element = document.createElement('script');\n      element.onload = on_load;\n      element.onerror = on_error;\n      element.async = false;\n      element.src = url;\n      if (url in hashes) {\n        element.crossOrigin = \"anonymous\";\n        element.integrity = \"sha384-\" + hashes[url];\n      }\n      console.debug(\"Bokeh: injecting script tag for BokehJS library: \", url);\n      document.head.appendChild(element);\n    }\n  };\n\n  function inject_raw_css(css) {\n    const element = document.createElement(\"style\");\n    element.appendChild(document.createTextNode(css));\n    document.body.appendChild(element);\n  }\n\n  \n  var js_urls = [\"https://cdn.bokeh.org/bokeh/release/bokeh-2.1.1.min.js\", \"https://cdn.bokeh.org/bokeh/release/bokeh-widgets-2.1.1.min.js\", \"https://cdn.bokeh.org/bokeh/release/bokeh-tables-2.1.1.min.js\", \"https://cdn.bokeh.org/bokeh/release/bokeh-gl-2.1.1.min.js\"];\n  var css_urls = [];\n  \n\n  var inline_js = [\n    function(Bokeh) {\n      Bokeh.set_log_level(\"info\");\n    },\n    function(Bokeh) {\n    \n    \n    }\n  ];\n\n  function run_inline_js() {\n    \n    if (root.Bokeh !== undefined || force === true) {\n      \n    for (var i = 0; i < inline_js.length; i++) {\n      inline_js[i].call(root, root.Bokeh);\n    }\n    } else if (Date.now() < root._bokeh_timeout) {\n      setTimeout(run_inline_js, 100);\n    } else if (!root._bokeh_failed_load) {\n      console.log(\"Bokeh: BokehJS failed to load within specified timeout.\");\n      root._bokeh_failed_load = true;\n    } else if (force !== true) {\n      var cell = $(document.getElementById(null)).parents('.cell').data().cell;\n      cell.output_area.append_execute_result(NB_LOAD_WARNING)\n    }\n\n  }\n\n  if (root._bokeh_is_loading === 0) {\n    console.debug(\"Bokeh: BokehJS loaded, going straight to plotting\");\n    run_inline_js();\n  } else {\n    load_libs(css_urls, js_urls, function() {\n      console.debug(\"Bokeh: BokehJS plotting callback run at\", now());\n      run_inline_js();\n    });\n  }\n}(window));"
          },
          "metadata": {
            "tags": []
          }
        },
        {
          "output_type": "display_data",
          "data": {
            "text/html": [
              "\n",
              "\n",
              "\n",
              "\n",
              "\n",
              "\n",
              "  <div class=\"bk-root\" id=\"b9b53ac5-de4c-49cb-ab53-96d6970e714d\" data-root-id=\"1629\"></div>\n"
            ]
          },
          "metadata": {
            "tags": []
          }
        },
        {
          "output_type": "display_data",
          "data": {
            "application/javascript": [
              "(function(root) {\n",
              "  function embed_document(root) {\n",
              "    \n",
              "  var docs_json = {\"935e414b-c461-48ea-8cd9-62c4b918d9b2\":{\"roots\":{\"references\":[{\"attributes\":{\"below\":[{\"id\":\"1638\"}],\"center\":[{\"id\":\"1640\"},{\"id\":\"1644\"}],\"left\":[{\"id\":\"1641\"}],\"plot_height\":1200,\"plot_width\":800,\"renderers\":[{\"id\":\"1662\"}],\"title\":{\"id\":\"1683\"},\"toolbar\":{\"id\":\"1652\"},\"x_range\":{\"id\":\"1630\"},\"x_scale\":{\"id\":\"1634\"},\"y_range\":{\"id\":\"1632\"},\"y_scale\":{\"id\":\"1636\"}},\"id\":\"1629\",\"subtype\":\"Figure\",\"type\":\"Plot\"},{\"attributes\":{},\"id\":\"1645\",\"type\":\"PanTool\"},{\"attributes\":{},\"id\":\"1685\",\"type\":\"CategoricalTickFormatter\"},{\"attributes\":{\"active_drag\":\"auto\",\"active_inspect\":\"auto\",\"active_multi\":null,\"active_scroll\":\"auto\",\"active_tap\":\"auto\",\"tools\":[{\"id\":\"1645\"},{\"id\":\"1646\"},{\"id\":\"1647\"},{\"id\":\"1648\"},{\"id\":\"1649\"},{\"id\":\"1650\"}]},\"id\":\"1652\",\"type\":\"Toolbar\"},{\"attributes\":{},\"id\":\"1646\",\"type\":\"WheelZoomTool\"},{\"attributes\":{},\"id\":\"1632\",\"type\":\"DataRange1d\"},{\"attributes\":{\"source\":{\"id\":\"1659\"}},\"id\":\"1663\",\"type\":\"CDSView\"},{\"attributes\":{},\"id\":\"1687\",\"type\":\"BasicTickFormatter\"},{\"attributes\":{},\"id\":\"1634\",\"type\":\"CategoricalScale\"},{\"attributes\":{},\"id\":\"1648\",\"type\":\"SaveTool\"},{\"attributes\":{\"axis\":{\"id\":\"1641\"},\"dimension\":1,\"ticker\":null},\"id\":\"1644\",\"type\":\"Grid\"},{\"attributes\":{\"bottom_units\":\"screen\",\"fill_alpha\":0.5,\"fill_color\":\"lightgrey\",\"left_units\":\"screen\",\"level\":\"overlay\",\"line_alpha\":1.0,\"line_color\":\"black\",\"line_dash\":[4,4],\"line_width\":2,\"right_units\":\"screen\",\"top_units\":\"screen\"},\"id\":\"1651\",\"type\":\"BoxAnnotation\"},{\"attributes\":{\"data_source\":{\"id\":\"1659\"},\"glyph\":{\"id\":\"1660\"},\"hover_glyph\":null,\"muted_glyph\":null,\"nonselection_glyph\":{\"id\":\"1661\"},\"selection_glyph\":null,\"view\":{\"id\":\"1663\"}},\"id\":\"1662\",\"type\":\"GlyphRenderer\"},{\"attributes\":{},\"id\":\"1689\",\"type\":\"Selection\"},{\"attributes\":{\"data\":{\"top\":[1,1,2,1,1,2,1,9,2,1,1,29,1,1,1,1,1,16,2,13,2,3,2,37,1,30,1,3,3,1,1,1,1,6,3,30,1,1,24,2,2,3,1,1,1,10,1,7,4,1,5,6,1,2,2,1,2,8,4,1,1,1,3,3,1,2,1,1,1,1,1,1,2,1,1,6,1,5,1,1,2,3,1,1,2,2,3,1,1,2,2,1,2,1,2,1,1,2,1,1,2,1,2,1,1,4,7,1,1,5,1,2,1,7,1,1,1,5,1,2,7,2,1,1,1,2,2,2,1,2,2,1,1,1,2,1,29,1,6,1,1,2,1,1,3,1,18,1,1,5,1,1,1,1,7,6,1,1,2,1,1,1,1,1,1,2,1,7,2,1,1,1,2,2,2,2,1,1,4,1,2,1,1,1,1,4,1,1,1,2,4,2,4,3,3,1,1,1,1,1,1,3,2,1,1,1,1,2,1,5,4,4,1,1,1,1,1,1,1,1,1,1,1,1,1,1,1,1,1,1,1,1,1,1,2,1,1,2,1,4,1,2,1,1,1,1,1,1,1,2,1,1,2,1,1,1,1,2,1,1,1,1,1,1,1,1,6,1,1,1,1,1,1,3,1,2,1,2,2,1,1,1,1,1,1,6,4,1,1,1,1,1,1,1,1,1,2,1,1,1,1,1,1,3,1,2,1,2,1,1,1,3,5,1,1,1,1,1,1,1,1,3,1,1,1,1,2,2,1,1,1,1,1,1,2,1,1,1,1,1,3,2,1,2,2,3,3,2,1,1,1,2,3,3,1,1,1,1,1,2,1,6,1,1,1,2,1,2,1,1,1,7,1,1,1,1,1,1,2,1,1,1,1,2,1,1,1,1,1,1,2,1,3,1,1,1,3,1,1,1,1,1,1,1,1,1,8,1,1,1,1,1,1,1,1,1,1,4,1,1,1,1,1,1,1,2,1,1,1,1,1,1,1,1,1,1,1,1,3,1,2,1,2,5,1,1,2,1,3,2,1,1,1,1,1,1,1,5,1,1,1,1,2,1,1,1,1,2,5,2,4,2,3,1,1,2,1,3,1,1,1,1,1,1,1,1,1,4,1,1,3,1,1,1,1,1,1,1,1,1,1,1,1,1,1,1,1,1,1,1,2,1,1,1,1,1,1,1,1,1,1,2,1,1,1,1,1,1,1,1,1,1,1,1,1,1,1,2,1,1,1,1,1,2,2,2,1,1,1,1,2,2,1,1,1,1,1,1,1,1,1,1,1,1,1,1,1,1,1,1,1,1,1,1,1,1,1,2,1,1,1,3,1,3,1,1,2,1,1,1,1,1,1,2,1,1,1,1,1,1,1,1,2,1,1,3,1,1,1,1,1,1,1,1,1,1,1,1,1,1,1,2,1,1,1,1,1,1,4,2,1,1,1,1,2,1,1,1,1,1,1,1,1,2,2,1,1,1,1,1,1,1,1,1,2,1,1,1,1,1,1,1,1,1,1,1,1,3,1,1,1,1,1,1,1,2,1,1,1,1,2,1,1,1,1,1,1,1,1,2,2,1,1,1,1,1,2,1,1,1,1,1,1,1,1,1,1,1,1,1,1,1,1,1,1,1,1,1,1,1,1,1,1,1,1,1,1,1,1,1,1,1,1,1,1,1,1,1,1,1,1,1,1,1,1,1,1,1,1,1,1,1,1,1,1,1,1,1,1,1,1,1,1,1,1,1,1,1,1,1,1,1,1,1,1,1,1,1,1,1,1,1,1,1,1,1,1,1,1,1,1,1,1,1,1],\"x\":[\"game\",\"on.\",\"come\",\"on!\",\"@espncricinfo\",\"ellyse\",\"perry\",\"you\",\"beauty!\",\":d\",\":p\",\"rt\",\"@espncricinfo:\",\"perry's\",\"all-round\",\"show\",\"seals\",\"a\",\"win\",\"for\",\"australia\",\"women\",\"at\",\"the\",\"scg\",\"and\",\"prevents\",\"an\",\"india\",\"clean\",\"sweep\",\"https://t.co/\\u2026\",\"once\",\"wahab\",\"had\",\"to\",\"defend\",\"15\",\"of\",\"last\",\"3\",\"against\",\"wi\",\"no.\",\"11\",\"he\",\"conceded\",\"2\",\"four\",\"six,\",\"it\",\"was\",\"tie.\",\"#nzvpak\",\"loooooooool\",\"thats\",\"why\",\"i\",\"would\",\"never\",\"trust\",\"reyaz.\",\"should\",\"make\",\"1\",\"then\",\"concede\",\"4!\",\"they'll\",\"run\",\"bye.\",\"beware!\",\"great\",\"effort\",\"wahab!\",\"not\",\"choked\",\"their\",\"plan.\",\"template\",\"aussie\",\"men\",\"win.\",\"odi\",\"series\",\"supposed\",\"be\",\"5\",\"matches,\",\"nz\",\"won\",\"2.\",\"pakistan\",\"3-2.\",\"well\",\"done!\",\"@the_global_kmr\",\"so\",\"desperate\",\"slavery\",\"didn't\",\"watch\",\"match,\",\"swear.\",\"pak\",\"were\",\"score\",\"atleast\",\"370\",\"from\",\"30\",\"over\",\"position,\",\"&amp;\",\"still\",\"chase\",\"it,\",\"don't\",\"grieve,\",\"could\",\"have\",\"been\",\"worse!\",\"i'm\",\"disappointed\",\"kane\",\"williamson,\",\"scored\",\"hundred.\",\"babar\",\"azam\",\"too\",\"deserved\",\"one!\",\"most\",\"things\",\"in\",\"life\",\"with\",\"guarantee,\",\"reyaz\",\"definitely\",\"doesn't.\",\"@2ibn_nor2\",\"yeah\",\"guptil\",\"is\",\"mom,\",\"thought\",\"he's\",\"straight.\",\"correct\",\"howlers,\",\"drs,\",\"but\",\"when\",\"geniouses\",\"leading\",\"will\",\"wasted\",\"awfully.\",\"@mazherarshad:\",\"selectors\",\"consider\",\"t20s\",\"as\",\"well,\",\"his\",\"average\",\"20-over\",\"cricket\",\"45.83,\",\"second\",\"highest\",\"i\\u2026\",\"@meanfellow90\",\"@lion_faisal:\",\"usa\",\"has\",\"rewarded\",\"iran\",\"100\",\"billions\",\"dollars\",\"helping\",\"assad\",\"kill\",\"nearly\",\"million\",\"muslims\",\"syria\",\"iraq\",\"because\",\"indian\",\"1st\",\"t20s,\",\"repeated,\",\"now\",\"turn\",\"australian\",\"repeat\",\"what\",\"did\",\"breaking\",\":\",\"usman\",\"khwaja\",\"fails\",\"century.\",\"#ausvind\",\"@burhan__shah01\",\"@almunajjid_en\",\"@assimalhakeem\",\"@cricprof:\",\"shane\",\"watson\",\"(124\",\"out)\",\"hit\",\"t20i\",\"score,\",\"behind\",\"aaron\",\"finch's\",\"156\",\"v\",\"england\",\"2013.\",\"@wwos9\",\"tajikistan\",\"intensifies\",\"its\",\"campaign\",\"criminalizing\",\"islam\",\"https://t.co/vnfnww7ixp\",\"@loveshaykhahmad\",\"close\",\"account,\",\"many\",\"benefit\",\"your\",\"posts\",\"@ajenglish:\",\"inside\",\"syria's\",\"madaya:\",\"\\\"we\",\"go\",\"days\",\"without\",\"food,\",\"we\",\"gather\",\"grass\",\"just\",\"boil\",\"eat\",\"it.\\\"\",\"https://t.\\u2026\",\"@scholarsofhaq75:\",\"\\u201cwhen\",\"adultery\",\"becomes\",\"widespread,\",\"diseases\",\"that\",\"previously\",\"unknown\",\"mankind\",\"appear.\\u201d\",\"prophet,\",\"saheeh\",\"\\u2026\",\".\",\"lol\",\"shaun\",\"tait\",\"full\",\"form.\",\"watto!\",\"watto\",\"vetto\",\"power\",\"today.\",\"kohli\",\"50\",\"ball.\",\"@51allout:\",\"shuan\",\"worst\",\"comeback\",\"since\",\"chinese\",\"democracy\",\"#gunsnroses\",\"if\",\"start\",\"liking\",\"kohli?\",\"@qassamimarwan:\",\"breaking:\",\"islamic\",\"state\",\"group\",\"army\",\"captured\",\"rashidiya\",\"district\",\"#deirezzur\",\"city\",\"after\",\"two\",\"fighting.\",\"#syria\\u2026\",\"never!\",\"caliphate\",\"eyes\",\"holy\",\"land\",\"https://t.co/yhzqxwa5za\",\"@noutankibaaz\",\"shit\",\"watul,\",\"sun\",\"virat\",\"scoring\",\"like\",\"boundary.\",\"haha\",\"he's,\",\"yunhi\",\"bol\",\"diya,\",\"these\",\"indians\",\"such\",\"ease?\",\"cow\",\"meat.\",\"@afp:\",\"#breaking:\",\"eight\",\"dead\",\"blasts\",\"near\",\"#syria\",\"shiite\",\"shrine:\",\"monitor\",\"@xxvvvxxxxxxxx:\",\"reports\",\"about\",\"russian\",\"soldiers\",\"ukraine\",\"swine-flu\",\"recent\",\"days.panic\",\"among\",\"invaders\\u2026\",\"this\",\"tour\",\"started,\",\"knew\",\"quickest\",\"7,000\",\"runs\",\"calculating\",\"how\",\"deny\",\"him\",\"record.\",\"manhoos\",\"threatening\",\"8,000\",\"record,\",\"century\",\"record\",\"even\",\"t20\",\"passed\",\"50.\",\"amla\",\"needs\",\"26\",\"break\",\"kohli's\",\"7000\",\"position\",\"more\",\"100s\",\"than\",\"lesser\",\"innings\",\"my\",\"only\",\"weapon\",\"hope\",\"kohli.\",\"plus\",\"joe\",\"root,\",\"steven\",\"smith\",\"warner\",\"are\",\"better\",\"batsmen\",\"one\",\"or\",\"all\",\"formats\",\"miserable\",\"vs\",\"swing.\",\"toll\",\"shrine\",\"rises\",\"30:\",\"media\",\"tye\",\"tie\",\"holes\",\"@khilafarashida:\",\"ottoman\",\"sends\",\"aid\",\"during\",\"irish\",\"famine\",\"letter\",\"gratitude\",\"caliph\",\"abdulmejid\",\"ireland,\",\"1847\",\"https:/\\u2026\",\"dhoni\",\"tried\",\"play\",\"politics,\",\"let\",\"yuvraj\",\"bat\",\"there\",\"no\",\"pressure,\",\"send\",\"pressure\",\"situation\",\"time.\",\"wanted\",\"off,\",\"slapped\",\"right\",\"face.\",\"@angry_hassan\",\"needed\",\"30,\",\"hasn't\",\"batted\",\"yrs\",\"intls,\",\"couldn't\",\"afford\",\"dots\",\"abdullah\",\"ibn\",\"mubaarak\",\"\\u2013\",\"rahimahullaah\",\"said,\",\"\\u201cthe\",\"root\",\"seventy\",\"innovated\",\"sects\",\"sects,\",\"spread.\",\"(the\",\"being)\",\"qadariyyah,\",\"murji\\u2019ah,\",\"shee\\u2019ah\",\"khawaarij.\\u201d\",\"[reported\",\"by\",\"battah\",\"ibaanatul-kubraa\",\"(no.\",\"278)]\",\"@strawberriiiiiy:\",\"statements.\",\"condolences.\",\"condemnations.\",\"tributes.\",\"remembrance.\",\"strikes.\",\"separatist\",\"politics.\",\"kashmir.\",\"(d.181h)\",\"\\u201ci\",\"found\",\"affair\",\"ittibaa\",\"(following\",\"submitting\",\"narrations).\\u201d\",\"[sharh\",\"usool\",\"i\\u2019tiqaad\",\"113)]\",\"mas\\u2019ood\",\"(radiallaahu\",\"\\u2018anhu)\",\"\\u201cfollow\",\"do\",\"innovate,\",\"given\",\"which\",\"sufficient\",\"every\",\"innovation\",\"misguidance.\\u201d\",\"[kitaab\",\"al-ilm\",\"abu\",\"khaithamah\",\"54)]\",\"explanation\",\"aqidah\",\"ahlus\",\"sunnah\",\"wal-jama'ah\",\"-\",\"imam\",\"ahmad\",\"bin\",\"hanbal\",\"[241h]\",\"https://t.co/m4ktgjiitz\",\"via\",\"@salafiri_com\",\"coming\",\"ain't\",\"easy\",\"bro,\",\"know\",\"kicked\",\"out\",\"many,\",\"rift\",\"muwatta\",\"malik\",\"shaikh\",\"zubair\",\"ali\",\"zai]\",\"hadith\",\"no.50\",\"\\u2013:\\u2013\",\"fasting\",\"whilst\",\"travelling\",\"https://t.co/5ob1m9nonj\",\"any\",\"other\",\"day\",\"time,\",\"failed\",\"those\",\"6s\",\"lost\",\"might\",\"hv\",\"dropped\",\"wc\",\"@deirezzor24:\",\"#deirezzor24\",\"#isis\",\"makes\",\"new\",\"gains\",\"#deirezzor\",\"city,\",\"planes\",\"perpetrate\",\"another\",\"massacre\",\"th\",\"province\",\"https\\u2026\",\"big\",\"players\",\"no,\",\"speaking\",\"crimes\",\"rafidha\",\"fallujah,\",\"ramadi,\",\"mosul\",\"doesn't\",\"suooorter\",\"they\",\"sent\",\"previous\",\"matches\",\"batting\",\"already\",\"adapt\",\"can't\",\"judge\",\"that,\",\"surely\",\"supports\",\"shariah\",\"staunch\",\"opponent\",\"shias\",\"very\",\"noble\",\"scholar\",\"answers\",\"considered\",\"authentic\",\"ones\",\"@almunajjid_en:\",\"1/2\",\"massacres\",\"today\",\"similar\",\"invasion\",\"tatars\",\"past.\",\"https://t.co/adc47eg2rt\",\"2/2\",\"taking\",\"place\",\"syria.\",\"attacking\",\"islaam;\",\"o\",\"allaah,\",\"down\",\"help!\",\"diyala\",\"being\",\"massacred,\",\"fallujah\",\"besieged,\",\"ramadi\",\"ruined,\",\"on\",\"verge\",\"drowning\",\"multiples\",\"https://t.co/a5i1m1qh18\",\"3/3\",\"rescue\",\"our\",\"brothers\",\"support\",\"them.\",\"@jazrawi_cuscous\",\"hahaha\",\"@kesisygegum:\",\"battle\",\"#ramadi\",\"far\",\"over,\",\"recaptured\",\"buildings\",\"east\",\"killed\",\"dozens\",\"iraqi\",\"soldiers.\",\"@alwala_bara:\",\"regime\",\"fires\",\"60\",\"+\",\"rockets\",\"into\",\"refugee\",\"camp\",\"latika.\",\"inna\",\"ilayhi\",\"wa\",\"raji'un\",\"\\ud83d\\ude22\",\"https://t.co/utcu84yg\\u2026\",\"@nidalgazaui:\",\"#breaking\",\"took\",\"controll\",\"al\",\"neighbourhood\",\"#deirezzor.\",\"https://t.co/yfgbddhf8w\",\"shaykh\",\"muhammad\",\"\\u2018abd\",\"al-\",\"wahhaab\",\"rebel\",\"caliphate?\",\"https://t.co/ne4if8hkv2\",\"claims\",\"supported\",\"proof,\",\"used\",\"fools\",\"evidence.\",\"@paradoxy13:\",\"helos\",\"52\",\"bombs\",\"#moadamia\",\"today,\",\"several\",\"chlorine\",\"gas\",\"barrel\",\"bombs,\",\"87\",\"civilian\",\"suffocation\",\"c\\u2026\",\"member\",\"says\",\"peace\",\"talks\",\"remember,\",\"assadists\",\"crying\",\"same\",\"hypocrites\",\"mocking\",\"starving\",\"children\",\"cheering\",\"bar\\u2026\",\"@ahmadmusajibril:\",\"west\",\"say\",\"{he's\",\"moderate}\",\"means\",\"gave\",\"them\",\"alliance\",\"became\",\"puppet.\",\"it's\",\"accusation\",\"saddening\",\"hear\",\"shia\",\"comrades\",\"300k\",\"ppl\",\"guess\",\"sacred\",\"human\",\"lives\",\"@assetsourceapp:\",\"hours\",\"deadly\",\"attack\",\"south\",\"explosions\",\"reported\",\"central\",\"#damascus\",\"htt\\u2026\",\"@kenroth:\",\"yes,\",\"russia\",\"can\",\"syrian\",\"comply\",\"duty.\",\"aren't\",\"publicly\",\"pressing\",\"them?\",\"https://t.c\\u2026\",\"session\",\"over.\",\"good\",\"night.\"]},\"selected\":{\"id\":\"1689\"},\"selection_policy\":{\"id\":\"1690\"}},\"id\":\"1659\",\"type\":\"ColumnDataSource\"},{\"attributes\":{},\"id\":\"1690\",\"type\":\"UnionRenderers\"},{\"attributes\":{\"fill_color\":{\"value\":\"firebrick\"},\"line_color\":{\"value\":\"firebrick\"},\"top\":{\"field\":\"top\"},\"width\":{\"value\":0.5},\"x\":{\"field\":\"x\"}},\"id\":\"1660\",\"type\":\"VBar\"},{\"attributes\":{\"formatter\":{\"id\":\"1685\"},\"major_label_orientation\":1.5707963267948966,\"ticker\":{\"id\":\"1639\"}},\"id\":\"1638\",\"type\":\"CategoricalAxis\"},{\"attributes\":{\"overlay\":{\"id\":\"1651\"}},\"id\":\"1647\",\"type\":\"BoxZoomTool\"},{\"attributes\":{},\"id\":\"1649\",\"type\":\"ResetTool\"},{\"attributes\":{},\"id\":\"1639\",\"type\":\"CategoricalTicker\"},{\"attributes\":{\"factors\":[\"game\",\"on.\",\"come\",\"on!\",\"@espncricinfo\",\"ellyse\",\"perry\",\"you\",\"beauty!\",\":d\",\":p\",\"rt\",\"@espncricinfo:\",\"perry's\",\"all-round\",\"show\",\"seals\",\"a\",\"win\",\"for\",\"australia\",\"women\",\"at\",\"the\",\"scg\",\"and\",\"prevents\",\"an\",\"india\",\"clean\",\"sweep\",\"https://t.co/\\u2026\",\"once\",\"wahab\",\"had\",\"to\",\"defend\",\"15\",\"of\",\"last\",\"3\",\"against\",\"wi\",\"no.\",\"11\",\"he\",\"conceded\",\"2\",\"four\",\"six,\",\"it\",\"was\",\"tie.\",\"#nzvpak\",\"loooooooool\",\"thats\",\"why\",\"i\",\"would\",\"never\",\"trust\",\"reyaz.\",\"should\",\"make\",\"1\",\"then\",\"concede\",\"4!\",\"they'll\",\"run\",\"bye.\",\"beware!\",\"great\",\"effort\",\"wahab!\",\"not\",\"choked\",\"their\",\"plan.\",\"template\",\"aussie\",\"men\",\"win.\",\"odi\",\"series\",\"supposed\",\"be\",\"5\",\"matches,\",\"nz\",\"won\",\"2.\",\"pakistan\",\"3-2.\",\"well\",\"done!\",\"@the_global_kmr\",\"so\",\"desperate\",\"slavery\",\"didn't\",\"watch\",\"match,\",\"swear.\",\"pak\",\"were\",\"score\",\"atleast\",\"370\",\"from\",\"30\",\"over\",\"position,\",\"&amp;\",\"still\",\"chase\",\"it,\",\"don't\",\"grieve,\",\"could\",\"have\",\"been\",\"worse!\",\"i'm\",\"disappointed\",\"kane\",\"williamson,\",\"scored\",\"hundred.\",\"babar\",\"azam\",\"too\",\"deserved\",\"one!\",\"most\",\"things\",\"in\",\"life\",\"with\",\"guarantee,\",\"reyaz\",\"definitely\",\"doesn't.\",\"@2ibn_nor2\",\"yeah\",\"guptil\",\"is\",\"mom,\",\"thought\",\"he's\",\"straight.\",\"correct\",\"howlers,\",\"drs,\",\"but\",\"when\",\"geniouses\",\"leading\",\"will\",\"wasted\",\"awfully.\",\"@mazherarshad:\",\"selectors\",\"consider\",\"t20s\",\"as\",\"well,\",\"his\",\"average\",\"20-over\",\"cricket\",\"45.83,\",\"second\",\"highest\",\"i\\u2026\",\"@meanfellow90\",\"@lion_faisal:\",\"usa\",\"has\",\"rewarded\",\"iran\",\"100\",\"billions\",\"dollars\",\"helping\",\"assad\",\"kill\",\"nearly\",\"million\",\"muslims\",\"syria\",\"iraq\",\"because\",\"indian\",\"1st\",\"t20s,\",\"repeated,\",\"now\",\"turn\",\"australian\",\"repeat\",\"what\",\"did\",\"breaking\",\":\",\"usman\",\"khwaja\",\"fails\",\"century.\",\"#ausvind\",\"@burhan__shah01\",\"@almunajjid_en\",\"@assimalhakeem\",\"@cricprof:\",\"shane\",\"watson\",\"(124\",\"out)\",\"hit\",\"t20i\",\"score,\",\"behind\",\"aaron\",\"finch's\",\"156\",\"v\",\"england\",\"2013.\",\"@wwos9\",\"tajikistan\",\"intensifies\",\"its\",\"campaign\",\"criminalizing\",\"islam\",\"https://t.co/vnfnww7ixp\",\"@loveshaykhahmad\",\"close\",\"account,\",\"many\",\"benefit\",\"your\",\"posts\",\"@ajenglish:\",\"inside\",\"syria's\",\"madaya:\",\"\\\"we\",\"go\",\"days\",\"without\",\"food,\",\"we\",\"gather\",\"grass\",\"just\",\"boil\",\"eat\",\"it.\\\"\",\"https://t.\\u2026\",\"@scholarsofhaq75:\",\"\\u201cwhen\",\"adultery\",\"becomes\",\"widespread,\",\"diseases\",\"that\",\"previously\",\"unknown\",\"mankind\",\"appear.\\u201d\",\"prophet,\",\"saheeh\",\"\\u2026\",\".\",\"lol\",\"shaun\",\"tait\",\"full\",\"form.\",\"watto!\",\"watto\",\"vetto\",\"power\",\"today.\",\"kohli\",\"50\",\"ball.\",\"@51allout:\",\"shuan\",\"worst\",\"comeback\",\"since\",\"chinese\",\"democracy\",\"#gunsnroses\",\"if\",\"start\",\"liking\",\"kohli?\",\"@qassamimarwan:\",\"breaking:\",\"islamic\",\"state\",\"group\",\"army\",\"captured\",\"rashidiya\",\"district\",\"#deirezzur\",\"city\",\"after\",\"two\",\"fighting.\",\"#syria\\u2026\",\"never!\",\"caliphate\",\"eyes\",\"holy\",\"land\",\"https://t.co/yhzqxwa5za\",\"@noutankibaaz\",\"shit\",\"watul,\",\"sun\",\"virat\",\"scoring\",\"like\",\"boundary.\",\"haha\",\"he's,\",\"yunhi\",\"bol\",\"diya,\",\"these\",\"indians\",\"such\",\"ease?\",\"cow\",\"meat.\",\"@afp:\",\"#breaking:\",\"eight\",\"dead\",\"blasts\",\"near\",\"#syria\",\"shiite\",\"shrine:\",\"monitor\",\"@xxvvvxxxxxxxx:\",\"reports\",\"about\",\"russian\",\"soldiers\",\"ukraine\",\"swine-flu\",\"recent\",\"days.panic\",\"among\",\"invaders\\u2026\",\"this\",\"tour\",\"started,\",\"knew\",\"quickest\",\"7,000\",\"runs\",\"calculating\",\"how\",\"deny\",\"him\",\"record.\",\"manhoos\",\"threatening\",\"8,000\",\"record,\",\"century\",\"record\",\"even\",\"t20\",\"passed\",\"50.\",\"amla\",\"needs\",\"26\",\"break\",\"kohli's\",\"7000\",\"position\",\"more\",\"100s\",\"than\",\"lesser\",\"innings\",\"my\",\"only\",\"weapon\",\"hope\",\"kohli.\",\"plus\",\"joe\",\"root,\",\"steven\",\"smith\",\"warner\",\"are\",\"better\",\"batsmen\",\"one\",\"or\",\"all\",\"formats\",\"miserable\",\"vs\",\"swing.\",\"toll\",\"shrine\",\"rises\",\"30:\",\"media\",\"tye\",\"tie\",\"holes\",\"@khilafarashida:\",\"ottoman\",\"sends\",\"aid\",\"during\",\"irish\",\"famine\",\"letter\",\"gratitude\",\"caliph\",\"abdulmejid\",\"ireland,\",\"1847\",\"https:/\\u2026\",\"dhoni\",\"tried\",\"play\",\"politics,\",\"let\",\"yuvraj\",\"bat\",\"there\",\"no\",\"pressure,\",\"send\",\"pressure\",\"situation\",\"time.\",\"wanted\",\"off,\",\"slapped\",\"right\",\"face.\",\"@angry_hassan\",\"needed\",\"30,\",\"hasn't\",\"batted\",\"yrs\",\"intls,\",\"couldn't\",\"afford\",\"dots\",\"abdullah\",\"ibn\",\"mubaarak\",\"\\u2013\",\"rahimahullaah\",\"said,\",\"\\u201cthe\",\"root\",\"seventy\",\"innovated\",\"sects\",\"sects,\",\"spread.\",\"(the\",\"being)\",\"qadariyyah,\",\"murji\\u2019ah,\",\"shee\\u2019ah\",\"khawaarij.\\u201d\",\"[reported\",\"by\",\"battah\",\"ibaanatul-kubraa\",\"(no.\",\"278)]\",\"@strawberriiiiiy:\",\"statements.\",\"condolences.\",\"condemnations.\",\"tributes.\",\"remembrance.\",\"strikes.\",\"separatist\",\"politics.\",\"kashmir.\",\"(d.181h)\",\"\\u201ci\",\"found\",\"affair\",\"ittibaa\",\"(following\",\"submitting\",\"narrations).\\u201d\",\"[sharh\",\"usool\",\"i\\u2019tiqaad\",\"113)]\",\"mas\\u2019ood\",\"(radiallaahu\",\"\\u2018anhu)\",\"\\u201cfollow\",\"do\",\"innovate,\",\"given\",\"which\",\"sufficient\",\"every\",\"innovation\",\"misguidance.\\u201d\",\"[kitaab\",\"al-ilm\",\"abu\",\"khaithamah\",\"54)]\",\"explanation\",\"aqidah\",\"ahlus\",\"sunnah\",\"wal-jama'ah\",\"-\",\"imam\",\"ahmad\",\"bin\",\"hanbal\",\"[241h]\",\"https://t.co/m4ktgjiitz\",\"via\",\"@salafiri_com\",\"coming\",\"ain't\",\"easy\",\"bro,\",\"know\",\"kicked\",\"out\",\"many,\",\"rift\",\"muwatta\",\"malik\",\"shaikh\",\"zubair\",\"ali\",\"zai]\",\"hadith\",\"no.50\",\"\\u2013:\\u2013\",\"fasting\",\"whilst\",\"travelling\",\"https://t.co/5ob1m9nonj\",\"any\",\"other\",\"day\",\"time,\",\"failed\",\"those\",\"6s\",\"lost\",\"might\",\"hv\",\"dropped\",\"wc\",\"@deirezzor24:\",\"#deirezzor24\",\"#isis\",\"makes\",\"new\",\"gains\",\"#deirezzor\",\"city,\",\"planes\",\"perpetrate\",\"another\",\"massacre\",\"th\",\"province\",\"https\\u2026\",\"big\",\"players\",\"no,\",\"speaking\",\"crimes\",\"rafidha\",\"fallujah,\",\"ramadi,\",\"mosul\",\"doesn't\",\"suooorter\",\"they\",\"sent\",\"previous\",\"matches\",\"batting\",\"already\",\"adapt\",\"can't\",\"judge\",\"that,\",\"surely\",\"supports\",\"shariah\",\"staunch\",\"opponent\",\"shias\",\"very\",\"noble\",\"scholar\",\"answers\",\"considered\",\"authentic\",\"ones\",\"@almunajjid_en:\",\"1/2\",\"massacres\",\"today\",\"similar\",\"invasion\",\"tatars\",\"past.\",\"https://t.co/adc47eg2rt\",\"2/2\",\"taking\",\"place\",\"syria.\",\"attacking\",\"islaam;\",\"o\",\"allaah,\",\"down\",\"help!\",\"diyala\",\"being\",\"massacred,\",\"fallujah\",\"besieged,\",\"ramadi\",\"ruined,\",\"on\",\"verge\",\"drowning\",\"multiples\",\"https://t.co/a5i1m1qh18\",\"3/3\",\"rescue\",\"our\",\"brothers\",\"support\",\"them.\",\"@jazrawi_cuscous\",\"hahaha\",\"@kesisygegum:\",\"battle\",\"#ramadi\",\"far\",\"over,\",\"recaptured\",\"buildings\",\"east\",\"killed\",\"dozens\",\"iraqi\",\"soldiers.\",\"@alwala_bara:\",\"regime\",\"fires\",\"60\",\"+\",\"rockets\",\"into\",\"refugee\",\"camp\",\"latika.\",\"inna\",\"ilayhi\",\"wa\",\"raji'un\",\"\\ud83d\\ude22\",\"https://t.co/utcu84yg\\u2026\",\"@nidalgazaui:\",\"#breaking\",\"took\",\"controll\",\"al\",\"neighbourhood\",\"#deirezzor.\",\"https://t.co/yfgbddhf8w\",\"shaykh\",\"muhammad\",\"\\u2018abd\",\"al-\",\"wahhaab\",\"rebel\",\"caliphate?\",\"https://t.co/ne4if8hkv2\",\"claims\",\"supported\",\"proof,\",\"used\",\"fools\",\"evidence.\",\"@paradoxy13:\",\"helos\",\"52\",\"bombs\",\"#moadamia\",\"today,\",\"several\",\"chlorine\",\"gas\",\"barrel\",\"bombs,\",\"87\",\"civilian\",\"suffocation\",\"c\\u2026\",\"member\",\"says\",\"peace\",\"talks\",\"remember,\",\"assadists\",\"crying\",\"same\",\"hypocrites\",\"mocking\",\"starving\",\"children\",\"cheering\",\"bar\\u2026\",\"@ahmadmusajibril:\",\"west\",\"say\",\"{he's\",\"moderate}\",\"means\",\"gave\",\"them\",\"alliance\",\"became\",\"puppet.\",\"it's\",\"accusation\",\"saddening\",\"hear\",\"shia\",\"comrades\",\"300k\",\"ppl\",\"guess\",\"sacred\",\"human\",\"lives\",\"@assetsourceapp:\",\"hours\",\"deadly\",\"attack\",\"south\",\"explosions\",\"reported\",\"central\",\"#damascus\",\"htt\\u2026\",\"@kenroth:\",\"yes,\",\"russia\",\"can\",\"syrian\",\"comply\",\"duty.\",\"aren't\",\"publicly\",\"pressing\",\"them?\",\"https://t.c\\u2026\",\"session\",\"over.\",\"good\",\"night.\"]},\"id\":\"1630\",\"type\":\"FactorRange\"},{\"attributes\":{\"axis\":{\"id\":\"1638\"},\"ticker\":null},\"id\":\"1640\",\"type\":\"Grid\"},{\"attributes\":{\"text\":\"\"},\"id\":\"1683\",\"type\":\"Title\"},{\"attributes\":{\"formatter\":{\"id\":\"1687\"},\"ticker\":{\"id\":\"1642\"}},\"id\":\"1641\",\"type\":\"LinearAxis\"},{\"attributes\":{},\"id\":\"1642\",\"type\":\"BasicTicker\"},{\"attributes\":{\"fill_alpha\":{\"value\":0.1},\"fill_color\":{\"value\":\"firebrick\"},\"line_alpha\":{\"value\":0.1},\"line_color\":{\"value\":\"firebrick\"},\"top\":{\"field\":\"top\"},\"width\":{\"value\":0.5},\"x\":{\"field\":\"x\"}},\"id\":\"1661\",\"type\":\"VBar\"},{\"attributes\":{},\"id\":\"1636\",\"type\":\"LinearScale\"},{\"attributes\":{},\"id\":\"1650\",\"type\":\"HelpTool\"}],\"root_ids\":[\"1629\"]},\"title\":\"Bokeh Application\",\"version\":\"2.1.1\"}};\n",
              "  var render_items = [{\"docid\":\"935e414b-c461-48ea-8cd9-62c4b918d9b2\",\"root_ids\":[\"1629\"],\"roots\":{\"1629\":\"b9b53ac5-de4c-49cb-ab53-96d6970e714d\"}}];\n",
              "  root.Bokeh.embed.embed_items_notebook(docs_json, render_items);\n",
              "\n",
              "  }\n",
              "  if (root.Bokeh !== undefined) {\n",
              "    embed_document(root);\n",
              "  } else {\n",
              "    var attempts = 0;\n",
              "    var timer = setInterval(function(root) {\n",
              "      if (root.Bokeh !== undefined) {\n",
              "        clearInterval(timer);\n",
              "        embed_document(root);\n",
              "      } else {\n",
              "        attempts++;\n",
              "        if (attempts > 100) {\n",
              "          clearInterval(timer);\n",
              "          console.log(\"Bokeh: ERROR: Unable to run BokehJS code because BokehJS library is missing\");\n",
              "        }\n",
              "      }\n",
              "    }, 10, root)\n",
              "  }\n",
              "})(window);"
            ],
            "application/vnd.bokehjs_exec.v0+json": ""
          },
          "metadata": {
            "tags": [],
            "application/vnd.bokehjs_exec.v0+json": {
              "id": "1629"
            }
          }
        }
      ]
    },
    {
      "cell_type": "code",
      "metadata": {
        "id": "e1O0CYT2JRM0"
      },
      "source": [
        ""
      ],
      "execution_count": null,
      "outputs": []
    }
  ]
}